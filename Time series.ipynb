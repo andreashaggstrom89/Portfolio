{
 "cells": [
  {
   "cell_type": "code",
   "execution_count": 1,
   "metadata": {},
   "outputs": [],
   "source": [
    "import pandas as pd\n",
    "from pandas import datetime\n",
    "import numpy as np\n",
    "import seaborn as sns\n",
    "import matplotlib.pyplot as plt\n",
    "%matplotlib inline"
   ]
  },
  {
   "cell_type": "code",
   "execution_count": 46,
   "metadata": {},
   "outputs": [],
   "source": [
    "from sklearn.preprocessing import MinMaxScaler\n",
    "from sklearn.metrics import mean_squared_error\n",
    "import pyramid\n",
    "from pyramid.arima import auto_arima,ARIMA"
   ]
  },
  {
   "cell_type": "code",
   "execution_count": 3,
   "metadata": {},
   "outputs": [
    {
     "name": "stderr",
     "output_type": "stream",
     "text": [
      "Using TensorFlow backend.\n"
     ]
    }
   ],
   "source": [
    "from keras.models import Sequential\n",
    "from keras.layers import Dense, Flatten, LSTM, Conv1D, MaxPooling1D, Dropout, Activation"
   ]
  },
  {
   "cell_type": "markdown",
   "metadata": {},
   "source": [
    "## Data preprocessing"
   ]
  },
  {
   "cell_type": "markdown",
   "metadata": {},
   "source": [
    "* The data is first cleaned form missing values where the previous value is simply filled in. \n",
    "* The y label is then constructed as the 5th observation of the opening price after the series of X variables. The 5th since the model will be evaluated on the performance of forecasting 5 steps (days) ahead in time ('preds_steps'). \n",
    "* The length of the input series is set to 180 steps ('len_input') and the number of observations left out to be used as a test set is 100 ('no_preds_in_test'). \n",
    "* The time-series are scaled with a min-max scaler."
   ]
  },
  {
   "cell_type": "code",
   "execution_count": 4,
   "metadata": {},
   "outputs": [],
   "source": [
    "preds_steps = 5\n",
    "len_input = 180\n",
    "no_preds_in_test = 100"
   ]
  },
  {
   "cell_type": "markdown",
   "metadata": {},
   "source": [
    "The dataset consists of 1259 observations ranging from 2013-08-26 to 2018-08-24. All X-variables; Open, High, Low, Close and  Volume (Adj Close is excluded since it correlates too strongly with Close) are used predict the Opening price so the model can see variations within each day."
   ]
  },
  {
   "cell_type": "code",
   "execution_count": 5,
   "metadata": {},
   "outputs": [],
   "source": [
    "data = pd.read_csv('/Users/andreashaggstrom/Downloads/Data Science/OMXseries.csv')"
   ]
  },
  {
   "cell_type": "code",
   "execution_count": 40,
   "metadata": {},
   "outputs": [
    {
     "data": {
      "text/html": [
       "<div>\n",
       "<style scoped>\n",
       "    .dataframe tbody tr th:only-of-type {\n",
       "        vertical-align: middle;\n",
       "    }\n",
       "\n",
       "    .dataframe tbody tr th {\n",
       "        vertical-align: top;\n",
       "    }\n",
       "\n",
       "    .dataframe thead th {\n",
       "        text-align: right;\n",
       "    }\n",
       "</style>\n",
       "<table border=\"1\" class=\"dataframe\">\n",
       "  <thead>\n",
       "    <tr style=\"text-align: right;\">\n",
       "      <th></th>\n",
       "      <th>Date</th>\n",
       "      <th>Open</th>\n",
       "      <th>High</th>\n",
       "      <th>Low</th>\n",
       "      <th>Close</th>\n",
       "      <th>Adj Close</th>\n",
       "      <th>Volume</th>\n",
       "    </tr>\n",
       "  </thead>\n",
       "  <tbody>\n",
       "    <tr>\n",
       "      <th>0</th>\n",
       "      <td>2013-08-26</td>\n",
       "      <td>1245.599976</td>\n",
       "      <td>1246.949951</td>\n",
       "      <td>1234.910034</td>\n",
       "      <td>1245.989990</td>\n",
       "      <td>1245.989990</td>\n",
       "      <td>54061600.0</td>\n",
       "    </tr>\n",
       "    <tr>\n",
       "      <th>1</th>\n",
       "      <td>2013-08-27</td>\n",
       "      <td>1240.890015</td>\n",
       "      <td>1241.410034</td>\n",
       "      <td>1222.439941</td>\n",
       "      <td>1224.849976</td>\n",
       "      <td>1224.849976</td>\n",
       "      <td>90128700.0</td>\n",
       "    </tr>\n",
       "    <tr>\n",
       "      <th>2</th>\n",
       "      <td>2013-08-28</td>\n",
       "      <td>1208.010010</td>\n",
       "      <td>1226.020020</td>\n",
       "      <td>1206.119995</td>\n",
       "      <td>1218.150024</td>\n",
       "      <td>1218.150024</td>\n",
       "      <td>88445100.0</td>\n",
       "    </tr>\n",
       "    <tr>\n",
       "      <th>3</th>\n",
       "      <td>2013-08-29</td>\n",
       "      <td>1222.790039</td>\n",
       "      <td>1225.530029</td>\n",
       "      <td>1218.420044</td>\n",
       "      <td>1224.310059</td>\n",
       "      <td>1224.310059</td>\n",
       "      <td>67169400.0</td>\n",
       "    </tr>\n",
       "    <tr>\n",
       "      <th>4</th>\n",
       "      <td>2013-08-30</td>\n",
       "      <td>1226.170044</td>\n",
       "      <td>1226.229980</td>\n",
       "      <td>1214.020020</td>\n",
       "      <td>1214.349976</td>\n",
       "      <td>1214.349976</td>\n",
       "      <td>80503700.0</td>\n",
       "    </tr>\n",
       "  </tbody>\n",
       "</table>\n",
       "</div>"
      ],
      "text/plain": [
       "         Date         Open         High          Low        Close  \\\n",
       "0  2013-08-26  1245.599976  1246.949951  1234.910034  1245.989990   \n",
       "1  2013-08-27  1240.890015  1241.410034  1222.439941  1224.849976   \n",
       "2  2013-08-28  1208.010010  1226.020020  1206.119995  1218.150024   \n",
       "3  2013-08-29  1222.790039  1225.530029  1218.420044  1224.310059   \n",
       "4  2013-08-30  1226.170044  1226.229980  1214.020020  1214.349976   \n",
       "\n",
       "     Adj Close      Volume  \n",
       "0  1245.989990  54061600.0  \n",
       "1  1224.849976  90128700.0  \n",
       "2  1218.150024  88445100.0  \n",
       "3  1224.310059  67169400.0  \n",
       "4  1214.349976  80503700.0  "
      ]
     },
     "execution_count": 40,
     "metadata": {},
     "output_type": "execute_result"
    }
   ],
   "source": [
    "data.head()"
   ]
  },
  {
   "cell_type": "code",
   "execution_count": 7,
   "metadata": {},
   "outputs": [],
   "source": [
    "data = data.fillna(method='ffill')"
   ]
  },
  {
   "cell_type": "code",
   "execution_count": 8,
   "metadata": {},
   "outputs": [],
   "source": [
    "y_labels = []\n",
    "for x in range(0,len(data)-len_input-preds_steps + 1):\n",
    "    y_labels.append(data['Open'][x + len_input + preds_steps - 1])"
   ]
  },
  {
   "cell_type": "code",
   "execution_count": 9,
   "metadata": {},
   "outputs": [],
   "source": [
    "y_train = y_labels[:-no_preds_in_test]\n",
    "y_train = np.array(y_train)\n",
    "y_train = y_train.reshape(-1, 1)"
   ]
  },
  {
   "cell_type": "code",
   "execution_count": 10,
   "metadata": {},
   "outputs": [],
   "source": [
    "sc_y = MinMaxScaler(feature_range = (0, 1))\n",
    "y_train = sc_y.fit_transform(y_train)"
   ]
  },
  {
   "cell_type": "code",
   "execution_count": 11,
   "metadata": {},
   "outputs": [],
   "source": [
    "y_test = y_labels[-(no_preds_in_test-preds_steps):]\n",
    "y_test = np.array(y_test)\n",
    "y_test = y_test.reshape(-1, 1)\n",
    "y_test = sc_y.transform(y_test)"
   ]
  },
  {
   "cell_type": "code",
   "execution_count": 12,
   "metadata": {},
   "outputs": [],
   "source": [
    "training_set = data.iloc[0:len(data)-no_preds_in_test+1,[1,2,3,4,6]].values"
   ]
  },
  {
   "cell_type": "code",
   "execution_count": 13,
   "metadata": {},
   "outputs": [],
   "source": [
    "test_set = data.iloc[len(data)-(no_preds_in_test+len_input):,[1,2,3,4,6]].values"
   ]
  },
  {
   "cell_type": "code",
   "execution_count": 14,
   "metadata": {},
   "outputs": [],
   "source": [
    "sc = MinMaxScaler(feature_range = (0, 1))\n",
    "training_set_scaled = sc.fit_transform(training_set)"
   ]
  },
  {
   "cell_type": "code",
   "execution_count": 15,
   "metadata": {},
   "outputs": [],
   "source": [
    "X_train = []\n",
    "for i in range(len_input, len(training_set)-preds_steps):\n",
    "    X_train.append(training_set_scaled[i-len_input:i, :])\n",
    "X_train = np.array(X_train)"
   ]
  },
  {
   "cell_type": "code",
   "execution_count": 16,
   "metadata": {},
   "outputs": [],
   "source": [
    "test_set_scaled = sc.transform(test_set)"
   ]
  },
  {
   "cell_type": "code",
   "execution_count": 17,
   "metadata": {},
   "outputs": [],
   "source": [
    "X_test = []\n",
    "for i in range(len_input, len(test_set)-preds_steps):\n",
    "    X_test.append(test_set_scaled[i-len_input+1:i+1, :])\n",
    "X_test = np.array(X_test)"
   ]
  },
  {
   "cell_type": "code",
   "execution_count": 18,
   "metadata": {},
   "outputs": [],
   "source": [
    "X_train = np.reshape(X_train, (X_train.shape[0], X_train.shape[1], X_train.shape[2]))"
   ]
  },
  {
   "cell_type": "code",
   "execution_count": 19,
   "metadata": {},
   "outputs": [],
   "source": [
    "X_test = np.reshape(X_test, (X_test.shape[0], X_test.shape[1], X_test.shape[2]))"
   ]
  },
  {
   "cell_type": "markdown",
   "metadata": {},
   "source": [
    "## Model"
   ]
  },
  {
   "cell_type": "markdown",
   "metadata": {},
   "source": [
    "* The model is a recurrent neural network (RNN) with 64 LSTM units and one fully connected output layer with a linear activation.\n",
    "* The loss is measured with mean squared error.\n",
    "* The Adam optimizer is used with a learning rate of 0.001.\n",
    "* The model is trained for 30 epochs."
   ]
  },
  {
   "cell_type": "code",
   "execution_count": 20,
   "metadata": {},
   "outputs": [],
   "source": [
    "model = Sequential()"
   ]
  },
  {
   "cell_type": "code",
   "execution_count": 21,
   "metadata": {},
   "outputs": [],
   "source": [
    "model.add(LSTM(64,input_shape = (X_train.shape[1], X_train.shape[2])))"
   ]
  },
  {
   "cell_type": "code",
   "execution_count": 22,
   "metadata": {},
   "outputs": [],
   "source": [
    "model.add(Dense(1))"
   ]
  },
  {
   "cell_type": "code",
   "execution_count": 23,
   "metadata": {},
   "outputs": [],
   "source": [
    "model.compile(loss='mean_squared_error',\n",
    "              optimizer='adam',\n",
    "              metrics=['mae'])"
   ]
  },
  {
   "cell_type": "code",
   "execution_count": 24,
   "metadata": {},
   "outputs": [
    {
     "name": "stdout",
     "output_type": "stream",
     "text": [
      "_________________________________________________________________\n",
      "Layer (type)                 Output Shape              Param #   \n",
      "=================================================================\n",
      "lstm_1 (LSTM)                (None, 64)                17920     \n",
      "_________________________________________________________________\n",
      "dense_1 (Dense)              (None, 1)                 65        \n",
      "=================================================================\n",
      "Total params: 17,985\n",
      "Trainable params: 17,985\n",
      "Non-trainable params: 0\n",
      "_________________________________________________________________\n"
     ]
    }
   ],
   "source": [
    "model.summary()"
   ]
  },
  {
   "cell_type": "code",
   "execution_count": 25,
   "metadata": {
    "scrolled": true
   },
   "outputs": [
    {
     "name": "stdout",
     "output_type": "stream",
     "text": [
      "Epoch 1/30\n",
      "975/975 [==============================] - 122s 126ms/step - loss: 0.0101 - mean_absolute_error: 0.0697\n",
      "Epoch 2/30\n",
      "975/975 [==============================] - 117s 120ms/step - loss: 0.0057 - mean_absolute_error: 0.0580\n",
      "Epoch 3/30\n",
      "975/975 [==============================] - 117s 120ms/step - loss: 0.0054 - mean_absolute_error: 0.0562\n",
      "Epoch 4/30\n",
      "975/975 [==============================] - 117s 120ms/step - loss: 0.0049 - mean_absolute_error: 0.0535\n",
      "Epoch 5/30\n",
      "975/975 [==============================] - 118s 122ms/step - loss: 0.0047 - mean_absolute_error: 0.0519\n",
      "Epoch 6/30\n",
      "975/975 [==============================] - 119s 122ms/step - loss: 0.0046 - mean_absolute_error: 0.0523\n",
      "Epoch 7/30\n",
      "975/975 [==============================] - 130s 133ms/step - loss: 0.0046 - mean_absolute_error: 0.0528\n",
      "Epoch 8/30\n",
      "975/975 [==============================] - 123s 127ms/step - loss: 0.0045 - mean_absolute_error: 0.0521\n",
      "Epoch 9/30\n",
      "975/975 [==============================] - 121s 125ms/step - loss: 0.0045 - mean_absolute_error: 0.0521\n",
      "Epoch 10/30\n",
      "975/975 [==============================] - 120s 123ms/step - loss: 0.0047 - mean_absolute_error: 0.0525\n",
      "Epoch 11/30\n",
      "975/975 [==============================] - 121s 124ms/step - loss: 0.0044 - mean_absolute_error: 0.0505\n",
      "Epoch 12/30\n",
      "975/975 [==============================] - 119s 122ms/step - loss: 0.0045 - mean_absolute_error: 0.0524\n",
      "Epoch 13/30\n",
      "975/975 [==============================] - 118s 121ms/step - loss: 0.0043 - mean_absolute_error: 0.0503\n",
      "Epoch 14/30\n",
      "975/975 [==============================] - 117s 120ms/step - loss: 0.0042 - mean_absolute_error: 0.0497\n",
      "Epoch 15/30\n",
      "975/975 [==============================] - 120s 123ms/step - loss: 0.0045 - mean_absolute_error: 0.0513\n",
      "Epoch 16/30\n",
      "975/975 [==============================] - 122s 125ms/step - loss: 0.0044 - mean_absolute_error: 0.0516\n",
      "Epoch 17/30\n",
      "975/975 [==============================] - 119s 122ms/step - loss: 0.0042 - mean_absolute_error: 0.0501\n",
      "Epoch 18/30\n",
      "975/975 [==============================] - 115s 118ms/step - loss: 0.0043 - mean_absolute_error: 0.0500\n",
      "Epoch 19/30\n",
      "975/975 [==============================] - 122s 125ms/step - loss: 0.0041 - mean_absolute_error: 0.0496\n",
      "Epoch 20/30\n",
      "975/975 [==============================] - 123s 126ms/step - loss: 0.0042 - mean_absolute_error: 0.0502\n",
      "Epoch 21/30\n",
      "975/975 [==============================] - 122s 125ms/step - loss: 0.0041 - mean_absolute_error: 0.0495\n",
      "Epoch 22/30\n",
      "975/975 [==============================] - 119s 122ms/step - loss: 0.0041 - mean_absolute_error: 0.0492\n",
      "Epoch 23/30\n",
      "975/975 [==============================] - 120s 123ms/step - loss: 0.0041 - mean_absolute_error: 0.0496\n",
      "Epoch 24/30\n",
      "975/975 [==============================] - 119s 122ms/step - loss: 0.0042 - mean_absolute_error: 0.0501\n",
      "Epoch 25/30\n",
      "975/975 [==============================] - 118s 121ms/step - loss: 0.0042 - mean_absolute_error: 0.0495\n",
      "Epoch 26/30\n",
      "975/975 [==============================] - 118s 121ms/step - loss: 0.0041 - mean_absolute_error: 0.0495\n",
      "Epoch 27/30\n",
      "975/975 [==============================] - 121s 124ms/step - loss: 0.0041 - mean_absolute_error: 0.0492\n",
      "Epoch 28/30\n",
      "975/975 [==============================] - 120s 123ms/step - loss: 0.0040 - mean_absolute_error: 0.0492\n",
      "Epoch 29/30\n",
      "975/975 [==============================] - 120s 123ms/step - loss: 0.0040 - mean_absolute_error: 0.0490\n",
      "Epoch 30/30\n",
      "975/975 [==============================] - 121s 124ms/step - loss: 0.0039 - mean_absolute_error: 0.0490\n"
     ]
    }
   ],
   "source": [
    "history = model.fit(X_train, y_train, batch_size=1, epochs=30)"
   ]
  },
  {
   "cell_type": "markdown",
   "metadata": {},
   "source": [
    "The loss is decreasing towards 0.0039 with diminishing returns after the 30th epoch. "
   ]
  },
  {
   "cell_type": "code",
   "execution_count": 26,
   "metadata": {},
   "outputs": [
    {
     "data": {
      "image/png": "[encoded data removed]",
      "text/plain": [
       "<Figure size 432x288 with 1 Axes>"
      ]
     },
     "metadata": {},
     "output_type": "display_data"
    }
   ],
   "source": [
    "fig, ax1 = plt.subplots()\n",
    "color = 'tab:red'\n",
    "ax1.set_xlabel('Epoch')\n",
    "ax1.set_ylabel('Loss', color=color)\n",
    "ax1.plot(history.history['loss'], color=color)\n",
    "ax1.tick_params(axis='y', labelcolor=color)"
   ]
  },
  {
   "cell_type": "markdown",
   "metadata": {},
   "source": [
    "## Forecast and evaluation"
   ]
  },
  {
   "cell_type": "markdown",
   "metadata": {},
   "source": [
    "100 time-steps are left for prediction and evaluation 5 time-steps ahead in time. "
   ]
  },
  {
   "cell_type": "code",
   "execution_count": 27,
   "metadata": {},
   "outputs": [],
   "source": [
    "predicted_stock_price = model.predict(X_test,batch_size=1)"
   ]
  },
  {
   "cell_type": "code",
   "execution_count": 29,
   "metadata": {},
   "outputs": [],
   "source": [
    "predicted_stock_price = sc_y.inverse_transform(predicted_stock_price)"
   ]
  },
  {
   "cell_type": "code",
   "execution_count": 30,
   "metadata": {},
   "outputs": [],
   "source": [
    "real_values = np.array(data['Open'][-(no_preds_in_test-preds_steps):]).reshape(-1,1)"
   ]
  },
  {
   "cell_type": "markdown",
   "metadata": {},
   "source": [
    "An ARIMA model is built as a benchmark using auto_arima."
   ]
  },
  {
   "cell_type": "code",
   "execution_count": 58,
   "metadata": {},
   "outputs": [],
   "source": [
    "arima_predictions = []\n",
    "for i in range(0,(no_preds_in_test-preds_steps)):\n",
    "    arima = auto_arima(data['Open'][:-(no_preds_in_test-i)],suppress_warnings=True,error_action=\"ignore\")\n",
    "    preds = arima.predict(preds_steps)\n",
    "    arima_predictions.append(preds[preds_steps-1])"
   ]
  },
  {
   "cell_type": "code",
   "execution_count": 59,
   "metadata": {},
   "outputs": [
    {
     "name": "stdout",
     "output_type": "stream",
     "text": [
      "RNN RMSE: 22.0\n"
     ]
    }
   ],
   "source": [
    "rnn_rmse = np.sqrt(mean_squared_error(real_values,predicted_stock_price))\n",
    "print('RNN RMSE:',round(rnn_rmse))"
   ]
  },
  {
   "cell_type": "code",
   "execution_count": 60,
   "metadata": {},
   "outputs": [
    {
     "name": "stdout",
     "output_type": "stream",
     "text": [
      "ARIMA RMSE: 26.0\n"
     ]
    }
   ],
   "source": [
    "arima_rmse = np.sqrt(mean_squared_error(real_values,arima_predictions))\n",
    "print('ARIMA RMSE:',round(arima_rmse))"
   ]
  },
  {
   "cell_type": "markdown",
   "metadata": {},
   "source": [
    "The RNN yields a lower root mean squared error and according to the below plot seem to react quicker to price changes than the ARIMA."
   ]
  },
  {
   "cell_type": "code",
   "execution_count": 64,
   "metadata": {},
   "outputs": [
    {
     "data": {
      "text/plain": [
       "<matplotlib.legend.Legend at 0x1c3027a978>"
      ]
     },
     "execution_count": 64,
     "metadata": {},
     "output_type": "execute_result"
    },
    {
     "data": {
      "image/png": "[encoded data removed]",
      "text/plain": [
       "<Figure size 432x288 with 1 Axes>"
      ]
     },
     "metadata": {},
     "output_type": "display_data"
    }
   ],
   "source": [
    "plt.plot(real_values, color = 'red', label = 'Real OMXS30 Index Price')\n",
    "plt.plot(predicted_stock_price, color = 'blue',linestyle='dashed', label = 'RNN Predicted OMXS30 Index Price')\n",
    "plt.plot(arima_predictions, color = 'green',linestyle='dashed', label = 'ARIMA Predicted OMXS30 Index Price')\n",
    "plt.title('OMXS30 Index Price Prediction')\n",
    "plt.xlabel('Days')\n",
    "plt.ylabel('OMXS30 Stock Price')\n",
    "plt.legend()"
   ]
  },
  {
   "cell_type": "code",
   "execution_count": null,
   "metadata": {},
   "outputs": [],
   "source": []
  }
 ],
 "metadata": {
  "kernelspec": {
   "display_name": "Python 3",
   "language": "python",
   "name": "python3"
  },
  "language_info": {
   "codemirror_mode": {
    "name": "ipython",
    "version": 3
   },
   "file_extension": ".py",
   "mimetype": "text/x-python",
   "name": "python",
   "nbconvert_exporter": "python",
   "pygments_lexer": "ipython3",
   "version": "3.6.6"
  }
 },
 "nbformat": 4,
 "nbformat_minor": 2
}
