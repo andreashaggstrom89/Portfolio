{
 "cells": [
  {
   "cell_type": "code",
   "execution_count": 1,
   "metadata": {},
   "outputs": [],
   "source": [
    "import pandas as pd\n",
    "import numpy as np\n",
    "import seaborn as sns\n",
    "import matplotlib.pyplot as plt\n",
    "%matplotlib inline"
   ]
  },
  {
   "cell_type": "code",
   "execution_count": 2,
   "metadata": {},
   "outputs": [
    {
     "name": "stderr",
     "output_type": "stream",
     "text": [
      "Using TensorFlow backend.\n",
      "/anaconda3/lib/python3.6/site-packages/sklearn/ensemble/weight_boosting.py:29: DeprecationWarning: numpy.core.umath_tests is an internal NumPy module and should not be imported. It will be removed in a future NumPy release.\n",
      "  from numpy.core.umath_tests import inner1d\n"
     ]
    }
   ],
   "source": [
    "from keras.preprocessing.text import Tokenizer\n",
    "from keras.preprocessing.sequence import pad_sequences\n",
    "from keras.preprocessing.text import text_to_word_sequence\n",
    "from keras.models import Sequential\n",
    "from keras.layers import Dense, LSTM,Dropout,ConvLSTM2D,Conv1D,MaxPooling1D, BatchNormalization, Activation\n",
    "from keras.layers.embeddings import Embedding\n",
    "from sklearn.ensemble import RandomForestClassifier\n",
    "from sklearn.model_selection import train_test_split\n",
    "from sklearn.metrics import classification_report,confusion_matrix,precision_recall_fscore_support\n",
    "import itertools\n",
    "from IPython.display import SVG\n",
    "from keras.utils.vis_utils import model_to_dot\n",
    "import os"
   ]
  },
  {
   "cell_type": "markdown",
   "metadata": {},
   "source": [
    "## Data preprocessing"
   ]
  },
  {
   "cell_type": "markdown",
   "metadata": {},
   "source": [
    "The original dataset consists of 23,486 reviews of womens clothing along with a 1 to 5 star rating. The first step of preparing the data was to drop all observations with no review comment resulting in 22,641 observations."
   ]
  },
  {
   "cell_type": "code",
   "execution_count": 3,
   "metadata": {},
   "outputs": [],
   "source": [
    "df = pd.read_csv('/Users/andreashaggstrom/Downloads/Data Science/Womens Clothing E-Commerce Reviews.csv')"
   ]
  },
  {
   "cell_type": "code",
   "execution_count": 4,
   "metadata": {},
   "outputs": [],
   "source": [
    "df = df.dropna(subset=['Review Text'])"
   ]
  },
  {
   "cell_type": "code",
   "execution_count": 5,
   "metadata": {},
   "outputs": [
    {
     "data": {
      "text/html": [
       "<div>\n",
       "<style scoped>\n",
       "    .dataframe tbody tr th:only-of-type {\n",
       "        vertical-align: middle;\n",
       "    }\n",
       "\n",
       "    .dataframe tbody tr th {\n",
       "        vertical-align: top;\n",
       "    }\n",
       "\n",
       "    .dataframe thead th {\n",
       "        text-align: right;\n",
       "    }\n",
       "</style>\n",
       "<table border=\"1\" class=\"dataframe\">\n",
       "  <thead>\n",
       "    <tr style=\"text-align: right;\">\n",
       "      <th></th>\n",
       "      <th>Review Text</th>\n",
       "      <th>Rating</th>\n",
       "    </tr>\n",
       "  </thead>\n",
       "  <tbody>\n",
       "    <tr>\n",
       "      <th>0</th>\n",
       "      <td>Absolutely wonderful - silky and sexy and comf...</td>\n",
       "      <td>4</td>\n",
       "    </tr>\n",
       "    <tr>\n",
       "      <th>1</th>\n",
       "      <td>Love this dress!  it's sooo pretty.  i happene...</td>\n",
       "      <td>5</td>\n",
       "    </tr>\n",
       "    <tr>\n",
       "      <th>2</th>\n",
       "      <td>I had such high hopes for this dress and reall...</td>\n",
       "      <td>3</td>\n",
       "    </tr>\n",
       "    <tr>\n",
       "      <th>3</th>\n",
       "      <td>I love, love, love this jumpsuit. it's fun, fl...</td>\n",
       "      <td>5</td>\n",
       "    </tr>\n",
       "    <tr>\n",
       "      <th>4</th>\n",
       "      <td>This shirt is very flattering to all due to th...</td>\n",
       "      <td>5</td>\n",
       "    </tr>\n",
       "    <tr>\n",
       "      <th>5</th>\n",
       "      <td>I love tracy reese dresses, but this one is no...</td>\n",
       "      <td>2</td>\n",
       "    </tr>\n",
       "    <tr>\n",
       "      <th>6</th>\n",
       "      <td>I aded this in my basket at hte last mintue to...</td>\n",
       "      <td>5</td>\n",
       "    </tr>\n",
       "    <tr>\n",
       "      <th>7</th>\n",
       "      <td>I ordered this in carbon for store pick up, an...</td>\n",
       "      <td>4</td>\n",
       "    </tr>\n",
       "    <tr>\n",
       "      <th>8</th>\n",
       "      <td>I love this dress. i usually get an xs but it ...</td>\n",
       "      <td>5</td>\n",
       "    </tr>\n",
       "    <tr>\n",
       "      <th>9</th>\n",
       "      <td>I'm 5\"5' and 125 lbs. i ordered the s petite t...</td>\n",
       "      <td>5</td>\n",
       "    </tr>\n",
       "  </tbody>\n",
       "</table>\n",
       "</div>"
      ],
      "text/plain": [
       "                                         Review Text  Rating\n",
       "0  Absolutely wonderful - silky and sexy and comf...       4\n",
       "1  Love this dress!  it's sooo pretty.  i happene...       5\n",
       "2  I had such high hopes for this dress and reall...       3\n",
       "3  I love, love, love this jumpsuit. it's fun, fl...       5\n",
       "4  This shirt is very flattering to all due to th...       5\n",
       "5  I love tracy reese dresses, but this one is no...       2\n",
       "6  I aded this in my basket at hte last mintue to...       5\n",
       "7  I ordered this in carbon for store pick up, an...       4\n",
       "8  I love this dress. i usually get an xs but it ...       5\n",
       "9  I'm 5\"5' and 125 lbs. i ordered the s petite t...       5"
      ]
     },
     "execution_count": 5,
     "metadata": {},
     "output_type": "execute_result"
    }
   ],
   "source": [
    "df[['Review Text', 'Rating']][0:10]"
   ]
  },
  {
   "cell_type": "markdown",
   "metadata": {},
   "source": [
    "The ratings are skewed towards the higher number of stars, which ofcourse is great for this retail company but may create concerns for the analysis. Giving a 5 stars rating means that you really enjoyed the product while if you give it a lower rating there might be something in the product not to like. To distinguish between if customers truly loved the product or found something not reaching their expectations I separate the observations into 5-star ratings as a group of comments with only positive sentiment and less than 5 stars into a group of less positive or negative sentiment. This gives an even distribution of positive sentiment = 1 and negative sentiment = 0."
   ]
  },
  {
   "cell_type": "code",
   "execution_count": 6,
   "metadata": {},
   "outputs": [
    {
     "data": {
      "text/plain": [
       "<matplotlib.axes._subplots.AxesSubplot at 0x1a29a9d1d0>"
      ]
     },
     "execution_count": 6,
     "metadata": {},
     "output_type": "execute_result"
    },
    {
     "data": {
      "image/png": "[encoded data removed]",
      "text/plain": [
       "<Figure size 432x288 with 1 Axes>"
      ]
     },
     "metadata": {},
     "output_type": "display_data"
    }
   ],
   "source": [
    "sns.countplot(df['Rating'])"
   ]
  },
  {
   "cell_type": "code",
   "execution_count": 7,
   "metadata": {},
   "outputs": [],
   "source": [
    "df['Sentiment'] = df['Rating'].map(lambda x : 1 if int(x) > 4 else 0)"
   ]
  },
  {
   "cell_type": "code",
   "execution_count": 8,
   "metadata": {},
   "outputs": [
    {
     "data": {
      "text/plain": [
       "<matplotlib.axes._subplots.AxesSubplot at 0x107c79278>"
      ]
     },
     "execution_count": 8,
     "metadata": {},
     "output_type": "execute_result"
    },
    {
     "data": {
      "image/png": "[encoded data removed]",
      "text/plain": [
       "<Figure size 432x288 with 1 Axes>"
      ]
     },
     "metadata": {},
     "output_type": "display_data"
    }
   ],
   "source": [
    "sns.countplot(df['Sentiment'])"
   ]
  },
  {
   "cell_type": "markdown",
   "metadata": {},
   "source": [
    "The observations are then randomly split into a train and a test set. The test set is 20% of the observations. X is the review comments as text, y is the sentiment: 1: Positive, 0: Negative."
   ]
  },
  {
   "cell_type": "code",
   "execution_count": 9,
   "metadata": {},
   "outputs": [],
   "source": [
    "X_train, X_test, y_train, y_test = train_test_split(df['Review Text'], df['Sentiment'], test_size=0.2)"
   ]
  },
  {
   "cell_type": "markdown",
   "metadata": {},
   "source": [
    "The words in the comments are transformed into numbers, with a value for each unique word of the 10,000 most frequent words based on the training set. The texts are then compressed to a maximum length of 500 words and padded with zeros if the text is shorter than 500."
   ]
  },
  {
   "cell_type": "code",
   "execution_count": 10,
   "metadata": {},
   "outputs": [],
   "source": [
    "token = Tokenizer(num_words=10000,filters='!\"#$%&()*+,-./:;<=>?@[\\\\]^_`{|}~\\t\\n', \n",
    "                  lower=True, split=' ', char_level=False, oov_token=None)"
   ]
  },
  {
   "cell_type": "code",
   "execution_count": 11,
   "metadata": {},
   "outputs": [],
   "source": [
    "token.fit_on_texts(X_train)"
   ]
  },
  {
   "cell_type": "code",
   "execution_count": 12,
   "metadata": {},
   "outputs": [],
   "source": [
    "X_train = token.texts_to_sequences(X_train)\n",
    "X_test = token.texts_to_sequences(X_test)"
   ]
  },
  {
   "cell_type": "code",
   "execution_count": 13,
   "metadata": {},
   "outputs": [],
   "source": [
    "X_train = pad_sequences(X_train,maxlen=500)\n",
    "X_test = pad_sequences(X_test,maxlen=500)"
   ]
  },
  {
   "cell_type": "markdown",
   "metadata": {},
   "source": [
    "The words are embedded according to Glove to group words with similar meanings and context."
   ]
  },
  {
   "cell_type": "code",
   "execution_count": 14,
   "metadata": {},
   "outputs": [],
   "source": [
    "word_index = token.word_index\n",
    "embedding_dim = 100\n",
    "max_sequence_length = 500"
   ]
  },
  {
   "cell_type": "code",
   "execution_count": 15,
   "metadata": {},
   "outputs": [
    {
     "name": "stdout",
     "output_type": "stream",
     "text": [
      "Found 400000 word vectors.\n"
     ]
    }
   ],
   "source": [
    "embeddings_index = {}\n",
    "f = open(os.path.join('/Users/andreashaggstrom/Downloads/Data Science/glove', 'glove.6B.100d.txt'))\n",
    "for line in f:\n",
    "    values = line.split()\n",
    "    word = values[0]\n",
    "    coefs = np.asarray(values[1:], dtype='float32')\n",
    "    embeddings_index[word] = coefs\n",
    "f.close()\n",
    "\n",
    "print('Found %s word vectors.' % len(embeddings_index))"
   ]
  },
  {
   "cell_type": "code",
   "execution_count": 16,
   "metadata": {},
   "outputs": [],
   "source": [
    "embedding_matrix = np.zeros((len(word_index) + 1, embedding_dim))\n",
    "for word, i in word_index.items():\n",
    "    embedding_vector = embeddings_index.get(word)\n",
    "    if embedding_vector is not None:\n",
    "        # words not found in embedding index will be all-zeros.\n",
    "        embedding_matrix[i] = embedding_vector"
   ]
  },
  {
   "cell_type": "code",
   "execution_count": 17,
   "metadata": {},
   "outputs": [],
   "source": [
    "embedding_layer = Embedding(len(word_index) + 1,\n",
    "                            embedding_dim,\n",
    "                            weights=[embedding_matrix],\n",
    "                            input_length=max_sequence_length,\n",
    "                            trainable=False)"
   ]
  },
  {
   "cell_type": "markdown",
   "metadata": {},
   "source": [
    "## Model"
   ]
  },
  {
   "cell_type": "markdown",
   "metadata": {},
   "source": [
    "The model is built with; the embedding layer; a recurrent layer with 128 LSTM units and 50% dropout to avoid overfitting and a final layer with a Sigmoid activation to predict the probability of a positive sentiment."
   ]
  },
  {
   "cell_type": "code",
   "execution_count": 18,
   "metadata": {},
   "outputs": [],
   "source": [
    "model = Sequential()"
   ]
  },
  {
   "cell_type": "code",
   "execution_count": 19,
   "metadata": {},
   "outputs": [],
   "source": [
    "model.add(Embedding(input_dim=len(word_index) +1, output_dim=embedding_dim,\n",
    "                    weights=[embedding_matrix], input_length=max_sequence_length,trainable=False\n",
    "                       ))"
   ]
  },
  {
   "cell_type": "code",
   "execution_count": 20,
   "metadata": {},
   "outputs": [],
   "source": [
    "model.add(LSTM(128,dropout=0.5, recurrent_dropout=0.5))"
   ]
  },
  {
   "cell_type": "code",
   "execution_count": 21,
   "metadata": {},
   "outputs": [],
   "source": [
    "model.add(Dense(1, activation='sigmoid'))"
   ]
  },
  {
   "cell_type": "markdown",
   "metadata": {},
   "source": [
    "The model is compiled the Adam optimizer and binary crossentopy as the loss function. The training is evaluated on both loss and accuracy. "
   ]
  },
  {
   "cell_type": "code",
   "execution_count": 22,
   "metadata": {},
   "outputs": [],
   "source": [
    "model.compile(loss='binary_crossentropy',\n",
    "              optimizer='adam',\n",
    "              metrics=['accuracy'])"
   ]
  },
  {
   "cell_type": "code",
   "execution_count": 23,
   "metadata": {
    "scrolled": false
   },
   "outputs": [
    {
     "name": "stdout",
     "output_type": "stream",
     "text": [
      "_________________________________________________________________\n",
      "Layer (type)                 Output Shape              Param #   \n",
      "=================================================================\n",
      "embedding_2 (Embedding)      (None, 500, 100)          1344800   \n",
      "_________________________________________________________________\n",
      "lstm_1 (LSTM)                (None, 128)               117248    \n",
      "_________________________________________________________________\n",
      "dense_1 (Dense)              (None, 1)                 129       \n",
      "=================================================================\n",
      "Total params: 1,462,177\n",
      "Trainable params: 117,377\n",
      "Non-trainable params: 1,344,800\n",
      "_________________________________________________________________\n"
     ]
    }
   ],
   "source": [
    "model.summary()"
   ]
  },
  {
   "cell_type": "code",
   "execution_count": 24,
   "metadata": {},
   "outputs": [
    {
     "data": {
      "image/svg+xml": [
       "<svg height=\"264pt\" viewBox=\"0.00 0.00 173.00 264.00\" width=\"173pt\" xmlns=\"http://www.w3.org/2000/svg\" xmlns:xlink=\"http://www.w3.org/1999/xlink\">\n",
       "<g class=\"graph\" id=\"graph0\" transform=\"scale(1 1) rotate(0) translate(4 260)\">\n",
       "<title>G</title>\n",
       "<polygon fill=\"#ffffff\" points=\"-4,4 -4,-260 169,-260 169,4 -4,4\" stroke=\"transparent\"/>\n",
       "<!-- 112362901632 -->\n",
       "<g class=\"node\" id=\"node1\">\n",
       "<title>112362901632</title>\n",
       "<polygon fill=\"none\" points=\"0,-146.5 0,-182.5 165,-182.5 165,-146.5 0,-146.5\" stroke=\"#000000\"/>\n",
       "<text fill=\"#000000\" font-family=\"Times,serif\" font-size=\"14.00\" text-anchor=\"middle\" x=\"82.5\" y=\"-160.8\">embedding_2: Embedding</text>\n",
       "</g>\n",
       "<!-- 112362902696 -->\n",
       "<g class=\"node\" id=\"node2\">\n",
       "<title>112362902696</title>\n",
       "<polygon fill=\"none\" points=\"33,-73.5 33,-109.5 132,-109.5 132,-73.5 33,-73.5\" stroke=\"#000000\"/>\n",
       "<text fill=\"#000000\" font-family=\"Times,serif\" font-size=\"14.00\" text-anchor=\"middle\" x=\"82.5\" y=\"-87.8\">lstm_1: LSTM</text>\n",
       "</g>\n",
       "<!-- 112362901632&#45;&gt;112362902696 -->\n",
       "<g class=\"edge\" id=\"edge2\">\n",
       "<title>112362901632-&gt;112362902696</title>\n",
       "<path d=\"M82.5,-146.4551C82.5,-138.3828 82.5,-128.6764 82.5,-119.6817\" fill=\"none\" stroke=\"#000000\"/>\n",
       "<polygon fill=\"#000000\" points=\"86.0001,-119.5903 82.5,-109.5904 79.0001,-119.5904 86.0001,-119.5903\" stroke=\"#000000\"/>\n",
       "</g>\n",
       "<!-- 112362905048 -->\n",
       "<g class=\"node\" id=\"node3\">\n",
       "<title>112362905048</title>\n",
       "<polygon fill=\"none\" points=\"30,-.5 30,-36.5 135,-36.5 135,-.5 30,-.5\" stroke=\"#000000\"/>\n",
       "<text fill=\"#000000\" font-family=\"Times,serif\" font-size=\"14.00\" text-anchor=\"middle\" x=\"82.5\" y=\"-14.8\">dense_1: Dense</text>\n",
       "</g>\n",
       "<!-- 112362902696&#45;&gt;112362905048 -->\n",
       "<g class=\"edge\" id=\"edge3\">\n",
       "<title>112362902696-&gt;112362905048</title>\n",
       "<path d=\"M82.5,-73.4551C82.5,-65.3828 82.5,-55.6764 82.5,-46.6817\" fill=\"none\" stroke=\"#000000\"/>\n",
       "<polygon fill=\"#000000\" points=\"86.0001,-46.5903 82.5,-36.5904 79.0001,-46.5904 86.0001,-46.5903\" stroke=\"#000000\"/>\n",
       "</g>\n",
       "<!-- 112362903928 -->\n",
       "<g class=\"node\" id=\"node4\">\n",
       "<title>112362903928</title>\n",
       "<polygon fill=\"none\" points=\"32,-219.5 32,-255.5 133,-255.5 133,-219.5 32,-219.5\" stroke=\"#000000\"/>\n",
       "<text fill=\"#000000\" font-family=\"Times,serif\" font-size=\"14.00\" text-anchor=\"middle\" x=\"82.5\" y=\"-233.8\">112362903928</text>\n",
       "</g>\n",
       "<!-- 112362903928&#45;&gt;112362901632 -->\n",
       "<g class=\"edge\" id=\"edge1\">\n",
       "<title>112362903928-&gt;112362901632</title>\n",
       "<path d=\"M82.5,-219.4551C82.5,-211.3828 82.5,-201.6764 82.5,-192.6817\" fill=\"none\" stroke=\"#000000\"/>\n",
       "<polygon fill=\"#000000\" points=\"86.0001,-192.5903 82.5,-182.5904 79.0001,-192.5904 86.0001,-192.5903\" stroke=\"#000000\"/>\n",
       "</g>\n",
       "</g>\n",
       "</svg>"
      ],
      "text/plain": [
       "<IPython.core.display.SVG object>"
      ]
     },
     "execution_count": 24,
     "metadata": {},
     "output_type": "execute_result"
    }
   ],
   "source": [
    "SVG(model_to_dot(model).create(prog='dot', format='svg'))"
   ]
  },
  {
   "cell_type": "markdown",
   "metadata": {},
   "source": [
    "The model is trained for 40 epochs with a batch size of 64. 10% of the training set is used for evaluation."
   ]
  },
  {
   "cell_type": "code",
   "execution_count": 25,
   "metadata": {
    "scrolled": true
   },
   "outputs": [
    {
     "name": "stdout",
     "output_type": "stream",
     "text": [
      "Train on 16300 samples, validate on 1812 samples\n",
      "Epoch 1/40\n",
      "16300/16300 [==============================] - 242s 15ms/step - loss: 0.6610 - acc: 0.6006 - val_loss: 0.5951 - val_acc: 0.6882\n",
      "Epoch 2/40\n",
      "16300/16300 [==============================] - 242s 15ms/step - loss: 0.6264 - acc: 0.6510 - val_loss: 0.5746 - val_acc: 0.7141\n",
      "Epoch 3/40\n",
      "16300/16300 [==============================] - 246s 15ms/step - loss: 0.6016 - acc: 0.6734 - val_loss: 0.5512 - val_acc: 0.7246\n",
      "Epoch 4/40\n",
      "16300/16300 [==============================] - 257s 16ms/step - loss: 0.5798 - acc: 0.6953 - val_loss: 0.5336 - val_acc: 0.7439\n",
      "Epoch 5/40\n",
      "16300/16300 [==============================] - 254s 16ms/step - loss: 0.5571 - acc: 0.7158 - val_loss: 0.5120 - val_acc: 0.7561\n",
      "Epoch 6/40\n",
      "16300/16300 [==============================] - 245s 15ms/step - loss: 0.5455 - acc: 0.7269 - val_loss: 0.4916 - val_acc: 0.7787\n",
      "Epoch 7/40\n",
      "16300/16300 [==============================] - 247s 15ms/step - loss: 0.5298 - acc: 0.7395 - val_loss: 0.4871 - val_acc: 0.7765\n",
      "Epoch 8/40\n",
      "16300/16300 [==============================] - 248s 15ms/step - loss: 0.5160 - acc: 0.7499 - val_loss: 0.4694 - val_acc: 0.7864\n",
      "Epoch 9/40\n",
      "16300/16300 [==============================] - 250s 15ms/step - loss: 0.5108 - acc: 0.7510 - val_loss: 0.4639 - val_acc: 0.7914\n",
      "Epoch 10/40\n",
      "16300/16300 [==============================] - 249s 15ms/step - loss: 0.5060 - acc: 0.7559 - val_loss: 0.4585 - val_acc: 0.7947\n",
      "Epoch 11/40\n",
      "16300/16300 [==============================] - 249s 15ms/step - loss: 0.4981 - acc: 0.7615 - val_loss: 0.4545 - val_acc: 0.7991\n",
      "Epoch 12/40\n",
      "16300/16300 [==============================] - 247s 15ms/step - loss: 0.4880 - acc: 0.7669 - val_loss: 0.4475 - val_acc: 0.8085\n",
      "Epoch 13/40\n",
      "16300/16300 [==============================] - 238s 15ms/step - loss: 0.4792 - acc: 0.7710 - val_loss: 0.4638 - val_acc: 0.7991\n",
      "Epoch 14/40\n",
      "16300/16300 [==============================] - 221s 14ms/step - loss: 0.4865 - acc: 0.7660 - val_loss: 0.4411 - val_acc: 0.8068\n",
      "Epoch 15/40\n",
      "16300/16300 [==============================] - 168s 10ms/step - loss: 0.4710 - acc: 0.7775 - val_loss: 0.4384 - val_acc: 0.8052\n",
      "Epoch 16/40\n",
      "16300/16300 [==============================] - 177s 11ms/step - loss: 0.4701 - acc: 0.7823 - val_loss: 0.4345 - val_acc: 0.8107\n",
      "Epoch 17/40\n",
      "16300/16300 [==============================] - 172s 11ms/step - loss: 0.4624 - acc: 0.7876 - val_loss: 0.4331 - val_acc: 0.8124\n",
      "Epoch 18/40\n",
      "16300/16300 [==============================] - 172s 11ms/step - loss: 0.4600 - acc: 0.7866 - val_loss: 0.4292 - val_acc: 0.8195\n",
      "Epoch 19/40\n",
      "16300/16300 [==============================] - 172s 11ms/step - loss: 0.4579 - acc: 0.7868 - val_loss: 0.4278 - val_acc: 0.8124\n",
      "Epoch 20/40\n",
      "16300/16300 [==============================] - 180s 11ms/step - loss: 0.4544 - acc: 0.7902 - val_loss: 0.4266 - val_acc: 0.8151\n",
      "Epoch 21/40\n",
      "16300/16300 [==============================] - 186s 11ms/step - loss: 0.4475 - acc: 0.7925 - val_loss: 0.4293 - val_acc: 0.8162\n",
      "Epoch 22/40\n",
      "16300/16300 [==============================] - 185s 11ms/step - loss: 0.4451 - acc: 0.7932 - val_loss: 0.4257 - val_acc: 0.8195\n",
      "Epoch 23/40\n",
      "16300/16300 [==============================] - 191s 12ms/step - loss: 0.4416 - acc: 0.7993 - val_loss: 0.4252 - val_acc: 0.8168\n",
      "Epoch 24/40\n",
      "16300/16300 [==============================] - 204s 13ms/step - loss: 0.4417 - acc: 0.7980 - val_loss: 0.4178 - val_acc: 0.8107\n",
      "Epoch 25/40\n",
      "16300/16300 [==============================] - 241s 15ms/step - loss: 0.4396 - acc: 0.8020 - val_loss: 0.4281 - val_acc: 0.8195\n",
      "Epoch 26/40\n",
      "16300/16300 [==============================] - 170s 10ms/step - loss: 0.4333 - acc: 0.7996 - val_loss: 0.4186 - val_acc: 0.8179\n",
      "Epoch 27/40\n",
      "16300/16300 [==============================] - 165s 10ms/step - loss: 0.4321 - acc: 0.8047 - val_loss: 0.4197 - val_acc: 0.8240\n",
      "Epoch 28/40\n",
      "16300/16300 [==============================] - 161s 10ms/step - loss: 0.4253 - acc: 0.8083 - val_loss: 0.4190 - val_acc: 0.8206\n",
      "Epoch 29/40\n",
      "16300/16300 [==============================] - 168s 10ms/step - loss: 0.4220 - acc: 0.8099 - val_loss: 0.4221 - val_acc: 0.8273\n",
      "Epoch 30/40\n",
      "16300/16300 [==============================] - 172s 11ms/step - loss: 0.4222 - acc: 0.8094 - val_loss: 0.4207 - val_acc: 0.8228\n",
      "Epoch 31/40\n",
      "16300/16300 [==============================] - 167s 10ms/step - loss: 0.4194 - acc: 0.8097 - val_loss: 0.4197 - val_acc: 0.8212\n",
      "Epoch 32/40\n",
      "16300/16300 [==============================] - 172s 11ms/step - loss: 0.4522 - acc: 0.7917 - val_loss: 0.4258 - val_acc: 0.8251\n",
      "Epoch 33/40\n",
      "16300/16300 [==============================] - 176s 11ms/step - loss: 0.4348 - acc: 0.7989 - val_loss: 0.4243 - val_acc: 0.8206\n",
      "Epoch 34/40\n",
      "16300/16300 [==============================] - 166s 10ms/step - loss: 0.4271 - acc: 0.8053 - val_loss: 0.4307 - val_acc: 0.8195\n",
      "Epoch 35/40\n",
      "16300/16300 [==============================] - 165s 10ms/step - loss: 0.4287 - acc: 0.8054 - val_loss: 0.4293 - val_acc: 0.8168\n",
      "Epoch 36/40\n",
      "16300/16300 [==============================] - 165s 10ms/step - loss: 0.4284 - acc: 0.8064 - val_loss: 0.4249 - val_acc: 0.8206\n",
      "Epoch 37/40\n",
      "16300/16300 [==============================] - 163s 10ms/step - loss: 0.4285 - acc: 0.8044 - val_loss: 0.4242 - val_acc: 0.8179\n",
      "Epoch 38/40\n",
      "16300/16300 [==============================] - 173s 11ms/step - loss: 0.4287 - acc: 0.8021 - val_loss: 0.4295 - val_acc: 0.8184\n",
      "Epoch 39/40\n",
      "16300/16300 [==============================] - 162s 10ms/step - loss: 0.4241 - acc: 0.8090 - val_loss: 0.4268 - val_acc: 0.8179\n",
      "Epoch 40/40\n",
      "16300/16300 [==============================] - 161s 10ms/step - loss: 0.4198 - acc: 0.8093 - val_loss: 0.4286 - val_acc: 0.8190\n"
     ]
    }
   ],
   "source": [
    "history = model.fit(X_train, y_train, batch_size=64, epochs=40, validation_split=0.1)"
   ]
  },
  {
   "cell_type": "code",
   "execution_count": 26,
   "metadata": {},
   "outputs": [
    {
     "name": "stdout",
     "output_type": "stream",
     "text": [
      "4529/4529 [==============================] - 11s 2ms/step\n"
     ]
    }
   ],
   "source": [
    "score = model.evaluate(X_test, y_test, batch_size=64)"
   ]
  },
  {
   "cell_type": "markdown",
   "metadata": {},
   "source": [
    "The model converges smoothly towards an accuracy of 81% and a loss of 0.44."
   ]
  },
  {
   "cell_type": "code",
   "execution_count": 27,
   "metadata": {},
   "outputs": [
    {
     "name": "stdout",
     "output_type": "stream",
     "text": [
      "Loss: 0.44 Accuracy: 0.81\n"
     ]
    }
   ],
   "source": [
    "print('Loss:' , round(score[0],2) , 'Accuracy:' , round(score[1],2))"
   ]
  },
  {
   "cell_type": "code",
   "execution_count": 28,
   "metadata": {},
   "outputs": [
    {
     "data": {
      "text/plain": [
       "<matplotlib.legend.Legend at 0x1a2ac2b4e0>"
      ]
     },
     "execution_count": 28,
     "metadata": {},
     "output_type": "execute_result"
    },
    {
     "data": {
      "image/png": "[encoded data removed]",
      "text/plain": [
       "<Figure size 432x288 with 1 Axes>"
      ]
     },
     "metadata": {},
     "output_type": "display_data"
    }
   ],
   "source": [
    "# summarize history for accuracy\n",
    "plt.plot(history.history['acc'])\n",
    "plt.plot(history.history['val_acc'])\n",
    "plt.title('model accuracy')\n",
    "plt.ylabel('accuracy')\n",
    "plt.xlabel('epoch')\n",
    "plt.legend(['train', 'test'], loc='upper left')"
   ]
  },
  {
   "cell_type": "code",
   "execution_count": 29,
   "metadata": {},
   "outputs": [
    {
     "data": {
      "text/plain": [
       "<matplotlib.legend.Legend at 0x1a35ac19e8>"
      ]
     },
     "execution_count": 29,
     "metadata": {},
     "output_type": "execute_result"
    },
    {
     "data": {
      "image/png": "[encoded data removed]",
      "text/plain": [
       "<Figure size 432x288 with 1 Axes>"
      ]
     },
     "metadata": {},
     "output_type": "display_data"
    }
   ],
   "source": [
    "# summarize history for loss\n",
    "plt.plot(history.history['loss'])\n",
    "plt.plot(history.history['val_loss'])\n",
    "plt.title('model loss')\n",
    "plt.ylabel('loss')\n",
    "plt.xlabel('epoch')\n",
    "plt.legend(['train', 'test'], loc='upper left')"
   ]
  },
  {
   "cell_type": "markdown",
   "metadata": {},
   "source": [
    "## Predictions and evaluation"
   ]
  },
  {
   "cell_type": "markdown",
   "metadata": {},
   "source": [
    "The model is used to predict the sentiment based on the comments of the test set, which is data the model have not seen before. Predictions with probability over 50% are percieved as comments with positive sentiment. "
   ]
  },
  {
   "cell_type": "code",
   "execution_count": 30,
   "metadata": {},
   "outputs": [],
   "source": [
    "preds = model.predict(X_test, batch_size=64)"
   ]
  },
  {
   "cell_type": "code",
   "execution_count": 31,
   "metadata": {},
   "outputs": [],
   "source": [
    "preds = (preds > 0.5)"
   ]
  },
  {
   "cell_type": "markdown",
   "metadata": {},
   "source": [
    "The average f1 score based on the precision and recall is inline with the overall accuracy of 81%."
   ]
  },
  {
   "cell_type": "code",
   "execution_count": null,
   "metadata": {},
   "outputs": [],
   "source": [
    "print(precision_recall_fscore_support(y_test,preds))"
   ]
  },
  {
   "cell_type": "code",
   "execution_count": 32,
   "metadata": {},
   "outputs": [
    {
     "name": "stdout",
     "output_type": "stream",
     "text": [
      "             precision    recall  f1-score   support\n",
      "\n",
      "          0       0.85      0.72      0.77      2076\n",
      "          1       0.79      0.89      0.83      2453\n",
      "\n",
      "avg / total       0.81      0.81      0.81      4529\n",
      "\n"
     ]
    }
   ],
   "source": [
    "print(classification_report(y_test, preds))"
   ]
  },
  {
   "cell_type": "code",
   "execution_count": 33,
   "metadata": {},
   "outputs": [],
   "source": [
    "def plot_confusion_matrix(cm, classes,\n",
    "                          normalize=False,\n",
    "                          title='Confusion matrix',\n",
    "                          cmap=plt.cm.Blues):\n",
    "    \"\"\"\n",
    "    This function prints and plots the confusion matrix.\n",
    "    Normalization can be applied by setting `normalize=True`.\n",
    "    \"\"\"\n",
    "    if normalize:\n",
    "        cm = cm.astype('float') / cm.sum(axis=1)[:, np.newaxis]\n",
    "        print(\"Normalized confusion matrix\")\n",
    "    else:\n",
    "        print('Confusion matrix, without normalization')\n",
    "\n",
    "    print(cm)\n",
    "\n",
    "    plt.imshow(cm, interpolation='nearest', cmap=cmap)\n",
    "    plt.title(title)\n",
    "    plt.colorbar()\n",
    "    tick_marks = np.arange(len(classes))\n",
    "    plt.xticks(tick_marks, classes, rotation=45)\n",
    "    plt.yticks(tick_marks, classes)\n",
    "\n",
    "    fmt = '.2f' if normalize else 'd'\n",
    "    thresh = cm.max() / 2.\n",
    "    for i, j in itertools.product(range(cm.shape[0]), range(cm.shape[1])):\n",
    "        plt.text(j, i, format(cm[i, j], fmt),\n",
    "                 horizontalalignment=\"center\",\n",
    "                 color=\"white\" if cm[i, j] > thresh else \"black\")\n",
    "\n",
    "    plt.tight_layout()\n",
    "    plt.ylabel('True label')\n",
    "    plt.xlabel('Predicted label')"
   ]
  },
  {
   "cell_type": "code",
   "execution_count": 34,
   "metadata": {},
   "outputs": [],
   "source": [
    "# Compute confusion matrix\n",
    "cnf_matrix = confusion_matrix(y_test, preds)\n",
    "np.set_printoptions(precision=2)"
   ]
  },
  {
   "cell_type": "code",
   "execution_count": 42,
   "metadata": {},
   "outputs": [
    {
     "name": "stdout",
     "output_type": "stream",
     "text": [
      "Confusion matrix, without normalization\n",
      "[[1485  591]\n",
      " [ 272 2181]]\n"
     ]
    },
    {
     "data": {
      "image/png": "[encoded data removed]",
      "text/plain": [
       "<Figure size 432x288 with 2 Axes>"
      ]
     },
     "metadata": {},
     "output_type": "display_data"
    }
   ],
   "source": [
    "# Plot non-normalized confusion matrix\n",
    "\n",
    "labels = ['1-4 Stars','5 Stars']\n",
    "\n",
    "plt.figure()\n",
    "plot_confusion_matrix(cnf_matrix, classes=labels,\n",
    "                      title='Confusion matrix, without normalization')"
   ]
  },
  {
   "cell_type": "markdown",
   "metadata": {},
   "source": [
    "A random forrest classifier is trained as a benchmark."
   ]
  },
  {
   "cell_type": "code",
   "execution_count": 37,
   "metadata": {},
   "outputs": [],
   "source": [
    "rfc = RandomForestClassifier(n_estimators=100)"
   ]
  },
  {
   "cell_type": "code",
   "execution_count": 38,
   "metadata": {},
   "outputs": [
    {
     "data": {
      "text/plain": [
       "RandomForestClassifier(bootstrap=True, class_weight=None, criterion='gini',\n",
       "            max_depth=None, max_features='auto', max_leaf_nodes=None,\n",
       "            min_impurity_decrease=0.0, min_impurity_split=None,\n",
       "            min_samples_leaf=1, min_samples_split=2,\n",
       "            min_weight_fraction_leaf=0.0, n_estimators=100, n_jobs=1,\n",
       "            oob_score=False, random_state=None, verbose=0,\n",
       "            warm_start=False)"
      ]
     },
     "execution_count": 38,
     "metadata": {},
     "output_type": "execute_result"
    }
   ],
   "source": [
    "rfc.fit(X_train, y_train)"
   ]
  },
  {
   "cell_type": "code",
   "execution_count": 39,
   "metadata": {},
   "outputs": [],
   "source": [
    "rfc_pred = rfc.predict(X_test)"
   ]
  },
  {
   "cell_type": "code",
   "execution_count": 40,
   "metadata": {},
   "outputs": [
    {
     "name": "stdout",
     "output_type": "stream",
     "text": [
      "[[ 595 1481]\n",
      " [ 579 1874]]\n"
     ]
    }
   ],
   "source": [
    "print(confusion_matrix(y_test,rfc_pred))"
   ]
  },
  {
   "cell_type": "code",
   "execution_count": 41,
   "metadata": {},
   "outputs": [
    {
     "name": "stdout",
     "output_type": "stream",
     "text": [
      "             precision    recall  f1-score   support\n",
      "\n",
      "          0       0.51      0.29      0.37      2076\n",
      "          1       0.56      0.76      0.65      2453\n",
      "\n",
      "avg / total       0.53      0.55      0.52      4529\n",
      "\n"
     ]
    }
   ],
   "source": [
    "print(classification_report(y_test,rfc_pred))"
   ]
  },
  {
   "cell_type": "markdown",
   "metadata": {},
   "source": [
    "The recurrent neural network miss-classifies mainly false positives but get most of the true positives correct, it predicts the sentiment with a substantially higher precision and recall compared to the random forrest classifier."
   ]
  }
 ],
 "metadata": {
  "kernelspec": {
   "display_name": "Python 3",
   "language": "python",
   "name": "python3"
  },
  "language_info": {
   "codemirror_mode": {
    "name": "ipython",
    "version": 3
   },
   "file_extension": ".py",
   "mimetype": "text/x-python",
   "name": "python",
   "nbconvert_exporter": "python",
   "pygments_lexer": "ipython3",
   "version": "3.6.6"
  }
 },
 "nbformat": 4,
 "nbformat_minor": 2
}
