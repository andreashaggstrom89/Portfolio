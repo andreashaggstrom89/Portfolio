{
 "cells": [
  {
   "cell_type": "code",
   "execution_count": 1,
   "metadata": {},
   "outputs": [],
   "source": [
    "import numpy as np\n",
    "import pandas as pd\n",
    "import matplotlib.pyplot as plt\n",
    "import seaborn as sns\n",
    "%matplotlib inline"
   ]
  },
  {
   "cell_type": "code",
   "execution_count": 2,
   "metadata": {},
   "outputs": [],
   "source": [
    "from sklearn.preprocessing import LabelEncoder,OneHotEncoder\n",
    "from sklearn.model_selection import train_test_split\n",
    "from sklearn.preprocessing import StandardScaler"
   ]
  },
  {
   "cell_type": "code",
   "execution_count": 3,
   "metadata": {},
   "outputs": [
    {
     "name": "stderr",
     "output_type": "stream",
     "text": [
      "Using TensorFlow backend.\n",
      "/anaconda3/lib/python3.6/site-packages/sklearn/ensemble/weight_boosting.py:29: DeprecationWarning: numpy.core.umath_tests is an internal NumPy module and should not be imported. It will be removed in a future NumPy release.\n",
      "  from numpy.core.umath_tests import inner1d\n"
     ]
    }
   ],
   "source": [
    "import keras as K\n",
    "from sklearn.metrics import classification_report,confusion_matrix,precision_recall_curve,roc_curve\n",
    "from sklearn.linear_model import LogisticRegression\n",
    "from sklearn.ensemble import RandomForestClassifier"
   ]
  },
  {
   "cell_type": "markdown",
   "metadata": {},
   "source": [
    "# Data import and preprocessing"
   ]
  },
  {
   "cell_type": "code",
   "execution_count": 4,
   "metadata": {},
   "outputs": [],
   "source": [
    "data = pd.read_csv('Churn_Modelling.csv')"
   ]
  },
  {
   "cell_type": "code",
   "execution_count": 5,
   "metadata": {},
   "outputs": [
    {
     "data": {
      "text/html": [
       "<div>\n",
       "<style scoped>\n",
       "    .dataframe tbody tr th:only-of-type {\n",
       "        vertical-align: middle;\n",
       "    }\n",
       "\n",
       "    .dataframe tbody tr th {\n",
       "        vertical-align: top;\n",
       "    }\n",
       "\n",
       "    .dataframe thead th {\n",
       "        text-align: right;\n",
       "    }\n",
       "</style>\n",
       "<table border=\"1\" class=\"dataframe\">\n",
       "  <thead>\n",
       "    <tr style=\"text-align: right;\">\n",
       "      <th></th>\n",
       "      <th>RowNumber</th>\n",
       "      <th>CustomerId</th>\n",
       "      <th>Surname</th>\n",
       "      <th>CreditScore</th>\n",
       "      <th>Geography</th>\n",
       "      <th>Gender</th>\n",
       "      <th>Age</th>\n",
       "      <th>Tenure</th>\n",
       "      <th>Balance</th>\n",
       "      <th>NumOfProducts</th>\n",
       "      <th>HasCrCard</th>\n",
       "      <th>IsActiveMember</th>\n",
       "      <th>EstimatedSalary</th>\n",
       "      <th>Exited</th>\n",
       "    </tr>\n",
       "  </thead>\n",
       "  <tbody>\n",
       "    <tr>\n",
       "      <th>0</th>\n",
       "      <td>1</td>\n",
       "      <td>15634602</td>\n",
       "      <td>Hargrave</td>\n",
       "      <td>619</td>\n",
       "      <td>France</td>\n",
       "      <td>Female</td>\n",
       "      <td>42</td>\n",
       "      <td>2</td>\n",
       "      <td>0.00</td>\n",
       "      <td>1</td>\n",
       "      <td>1</td>\n",
       "      <td>1</td>\n",
       "      <td>101348.88</td>\n",
       "      <td>1</td>\n",
       "    </tr>\n",
       "    <tr>\n",
       "      <th>1</th>\n",
       "      <td>2</td>\n",
       "      <td>15647311</td>\n",
       "      <td>Hill</td>\n",
       "      <td>608</td>\n",
       "      <td>Spain</td>\n",
       "      <td>Female</td>\n",
       "      <td>41</td>\n",
       "      <td>1</td>\n",
       "      <td>83807.86</td>\n",
       "      <td>1</td>\n",
       "      <td>0</td>\n",
       "      <td>1</td>\n",
       "      <td>112542.58</td>\n",
       "      <td>0</td>\n",
       "    </tr>\n",
       "    <tr>\n",
       "      <th>2</th>\n",
       "      <td>3</td>\n",
       "      <td>15619304</td>\n",
       "      <td>Onio</td>\n",
       "      <td>502</td>\n",
       "      <td>France</td>\n",
       "      <td>Female</td>\n",
       "      <td>42</td>\n",
       "      <td>8</td>\n",
       "      <td>159660.80</td>\n",
       "      <td>3</td>\n",
       "      <td>1</td>\n",
       "      <td>0</td>\n",
       "      <td>113931.57</td>\n",
       "      <td>1</td>\n",
       "    </tr>\n",
       "    <tr>\n",
       "      <th>3</th>\n",
       "      <td>4</td>\n",
       "      <td>15701354</td>\n",
       "      <td>Boni</td>\n",
       "      <td>699</td>\n",
       "      <td>France</td>\n",
       "      <td>Female</td>\n",
       "      <td>39</td>\n",
       "      <td>1</td>\n",
       "      <td>0.00</td>\n",
       "      <td>2</td>\n",
       "      <td>0</td>\n",
       "      <td>0</td>\n",
       "      <td>93826.63</td>\n",
       "      <td>0</td>\n",
       "    </tr>\n",
       "    <tr>\n",
       "      <th>4</th>\n",
       "      <td>5</td>\n",
       "      <td>15737888</td>\n",
       "      <td>Mitchell</td>\n",
       "      <td>850</td>\n",
       "      <td>Spain</td>\n",
       "      <td>Female</td>\n",
       "      <td>43</td>\n",
       "      <td>2</td>\n",
       "      <td>125510.82</td>\n",
       "      <td>1</td>\n",
       "      <td>1</td>\n",
       "      <td>1</td>\n",
       "      <td>79084.10</td>\n",
       "      <td>0</td>\n",
       "    </tr>\n",
       "  </tbody>\n",
       "</table>\n",
       "</div>"
      ],
      "text/plain": [
       "   RowNumber  CustomerId   Surname  CreditScore Geography  Gender  Age  \\\n",
       "0          1    15634602  Hargrave          619    France  Female   42   \n",
       "1          2    15647311      Hill          608     Spain  Female   41   \n",
       "2          3    15619304      Onio          502    France  Female   42   \n",
       "3          4    15701354      Boni          699    France  Female   39   \n",
       "4          5    15737888  Mitchell          850     Spain  Female   43   \n",
       "\n",
       "   Tenure    Balance  NumOfProducts  HasCrCard  IsActiveMember  \\\n",
       "0       2       0.00              1          1               1   \n",
       "1       1   83807.86              1          0               1   \n",
       "2       8  159660.80              3          1               0   \n",
       "3       1       0.00              2          0               0   \n",
       "4       2  125510.82              1          1               1   \n",
       "\n",
       "   EstimatedSalary  Exited  \n",
       "0        101348.88       1  \n",
       "1        112542.58       0  \n",
       "2        113931.57       1  \n",
       "3         93826.63       0  \n",
       "4         79084.10       0  "
      ]
     },
     "execution_count": 5,
     "metadata": {},
     "output_type": "execute_result"
    }
   ],
   "source": [
    "data.head()"
   ]
  },
  {
   "cell_type": "markdown",
   "metadata": {},
   "source": [
    "Dropåing RowNumber, CustomerID and Surname since they do not carry predictive information"
   ]
  },
  {
   "cell_type": "code",
   "execution_count": 6,
   "metadata": {},
   "outputs": [],
   "source": [
    "X = data.iloc[:,3:-1].values"
   ]
  },
  {
   "cell_type": "code",
   "execution_count": 7,
   "metadata": {},
   "outputs": [],
   "source": [
    "y = data.iloc[:,-1].values"
   ]
  },
  {
   "cell_type": "markdown",
   "metadata": {},
   "source": [
    "## One-hot-encoding"
   ]
  },
  {
   "cell_type": "code",
   "execution_count": 8,
   "metadata": {},
   "outputs": [],
   "source": [
    "le_x1 = LabelEncoder()\n",
    "le_x2 = LabelEncoder()"
   ]
  },
  {
   "cell_type": "code",
   "execution_count": 9,
   "metadata": {},
   "outputs": [],
   "source": [
    "X[:,1] = le_x1.fit_transform(X[:,1])"
   ]
  },
  {
   "cell_type": "code",
   "execution_count": 10,
   "metadata": {},
   "outputs": [],
   "source": [
    "X[:,2] = le_x2.fit_transform(X[:,2])"
   ]
  },
  {
   "cell_type": "code",
   "execution_count": 11,
   "metadata": {},
   "outputs": [],
   "source": [
    "ohe = OneHotEncoder(categorical_features = [1])"
   ]
  },
  {
   "cell_type": "code",
   "execution_count": 12,
   "metadata": {},
   "outputs": [],
   "source": [
    "X = ohe.fit_transform(X).toarray()"
   ]
  },
  {
   "cell_type": "code",
   "execution_count": 13,
   "metadata": {},
   "outputs": [
    {
     "data": {
      "text/plain": [
       "(10000, 12)"
      ]
     },
     "execution_count": 13,
     "metadata": {},
     "output_type": "execute_result"
    }
   ],
   "source": [
    "X.shape"
   ]
  },
  {
   "cell_type": "markdown",
   "metadata": {},
   "source": [
    "## Train-test split"
   ]
  },
  {
   "cell_type": "code",
   "execution_count": 14,
   "metadata": {},
   "outputs": [],
   "source": [
    "X_train, X_test, y_train, y_test = train_test_split(X, y, test_size=0.1)"
   ]
  },
  {
   "cell_type": "markdown",
   "metadata": {},
   "source": [
    "## Standardizing the data"
   ]
  },
  {
   "cell_type": "code",
   "execution_count": 15,
   "metadata": {},
   "outputs": [],
   "source": [
    "sc = StandardScaler()"
   ]
  },
  {
   "cell_type": "code",
   "execution_count": 16,
   "metadata": {},
   "outputs": [],
   "source": [
    "X_train = sc.fit_transform(X_train)\n",
    "X_test = sc.transform(X_test)"
   ]
  },
  {
   "cell_type": "markdown",
   "metadata": {},
   "source": [
    "# Models"
   ]
  },
  {
   "cell_type": "markdown",
   "metadata": {},
   "source": [
    "## Logistic regression"
   ]
  },
  {
   "cell_type": "code",
   "execution_count": 17,
   "metadata": {},
   "outputs": [
    {
     "data": {
      "text/plain": [
       "LogisticRegression(C=1.0, class_weight=None, dual=False, fit_intercept=True,\n",
       "          intercept_scaling=1, max_iter=100, multi_class='ovr', n_jobs=1,\n",
       "          penalty='l2', random_state=None, solver='liblinear', tol=0.0001,\n",
       "          verbose=0, warm_start=False)"
      ]
     },
     "execution_count": 17,
     "metadata": {},
     "output_type": "execute_result"
    }
   ],
   "source": [
    "log_model = LogisticRegression()\n",
    "log_model.fit(X_train, y_train)"
   ]
  },
  {
   "cell_type": "code",
   "execution_count": 18,
   "metadata": {},
   "outputs": [],
   "source": [
    "y_pred = log_model.predict(X_test)"
   ]
  },
  {
   "cell_type": "code",
   "execution_count": 19,
   "metadata": {},
   "outputs": [
    {
     "name": "stdout",
     "output_type": "stream",
     "text": [
      "             precision    recall  f1-score   support\n",
      "\n",
      "          0       0.83      0.97      0.90       800\n",
      "          1       0.64      0.21      0.32       200\n",
      "\n",
      "avg / total       0.79      0.82      0.78      1000\n",
      "\n"
     ]
    }
   ],
   "source": [
    "print(classification_report(y_test, y_pred))"
   ]
  },
  {
   "cell_type": "code",
   "execution_count": 20,
   "metadata": {},
   "outputs": [
    {
     "name": "stdout",
     "output_type": "stream",
     "text": [
      "[[776  24]\n",
      " [157  43]]\n"
     ]
    }
   ],
   "source": [
    "print(confusion_matrix(y_test, y_pred))"
   ]
  },
  {
   "cell_type": "markdown",
   "metadata": {},
   "source": [
    "## Random forest"
   ]
  },
  {
   "cell_type": "code",
   "execution_count": 21,
   "metadata": {},
   "outputs": [
    {
     "data": {
      "text/plain": [
       "RandomForestClassifier(bootstrap=True, class_weight=None, criterion='gini',\n",
       "            max_depth=None, max_features='auto', max_leaf_nodes=None,\n",
       "            min_impurity_decrease=0.0, min_impurity_split=None,\n",
       "            min_samples_leaf=1, min_samples_split=2,\n",
       "            min_weight_fraction_leaf=0.0, n_estimators=100, n_jobs=1,\n",
       "            oob_score=False, random_state=None, verbose=0,\n",
       "            warm_start=False)"
      ]
     },
     "execution_count": 21,
     "metadata": {},
     "output_type": "execute_result"
    }
   ],
   "source": [
    "rfc_model = RandomForestClassifier(n_estimators = 100)\n",
    "rfc_model.fit(X_train, y_train)"
   ]
  },
  {
   "cell_type": "code",
   "execution_count": 22,
   "metadata": {},
   "outputs": [],
   "source": [
    "y_pred = rfc_model.predict(X_test)"
   ]
  },
  {
   "cell_type": "code",
   "execution_count": 23,
   "metadata": {},
   "outputs": [
    {
     "name": "stdout",
     "output_type": "stream",
     "text": [
      "             precision    recall  f1-score   support\n",
      "\n",
      "          0       0.87      0.95      0.91       800\n",
      "          1       0.70      0.42      0.53       200\n",
      "\n",
      "avg / total       0.83      0.85      0.83      1000\n",
      "\n"
     ]
    }
   ],
   "source": [
    "print(classification_report(y_test, y_pred))"
   ]
  },
  {
   "cell_type": "code",
   "execution_count": 24,
   "metadata": {},
   "outputs": [
    {
     "name": "stdout",
     "output_type": "stream",
     "text": [
      "[[763  37]\n",
      " [115  85]]\n"
     ]
    }
   ],
   "source": [
    "print(confusion_matrix(y_test, y_pred))"
   ]
  },
  {
   "cell_type": "markdown",
   "metadata": {},
   "source": [
    "## Neural network"
   ]
  },
  {
   "cell_type": "markdown",
   "metadata": {},
   "source": [
    "Creating class weights to account for label imbalance"
   ]
  },
  {
   "cell_type": "code",
   "execution_count": 25,
   "metadata": {},
   "outputs": [],
   "source": [
    "cw = {0:(1-(y_train[y_train == 0].size/y_train.size)),1:(1-(y_train[y_train == 1].size/y_train.size))}"
   ]
  },
  {
   "cell_type": "code",
   "execution_count": 26,
   "metadata": {},
   "outputs": [],
   "source": [
    "model = K.models.Sequential()"
   ]
  },
  {
   "cell_type": "code",
   "execution_count": 27,
   "metadata": {},
   "outputs": [],
   "source": [
    "model.add(K.layers.Dense(32,activation = 'relu', input_dim = 12))"
   ]
  },
  {
   "cell_type": "code",
   "execution_count": 28,
   "metadata": {},
   "outputs": [],
   "source": [
    "model.add(K.layers.Dense(64,activation = 'relu'))"
   ]
  },
  {
   "cell_type": "code",
   "execution_count": 29,
   "metadata": {},
   "outputs": [],
   "source": [
    "model.add(K.layers.Dense(1,activation = 'sigmoid'))"
   ]
  },
  {
   "cell_type": "code",
   "execution_count": 30,
   "metadata": {},
   "outputs": [],
   "source": [
    "opt = K.optimizers.adam(lr=0.0001)"
   ]
  },
  {
   "cell_type": "code",
   "execution_count": 31,
   "metadata": {},
   "outputs": [],
   "source": [
    "model.compile(optimizer=opt, loss= 'binary_crossentropy', metrics=['acc'])"
   ]
  },
  {
   "cell_type": "code",
   "execution_count": 32,
   "metadata": {
    "collapsed": true
   },
   "outputs": [
    {
     "name": "stdout",
     "output_type": "stream",
     "text": [
      "Train on 8100 samples, validate on 900 samples\n",
      "Epoch 1/100\n",
      "8100/8100 [==============================] - 1s 119us/step - loss: 0.2287 - acc: 0.3814 - val_loss: 0.2254 - val_acc: 0.4422\n",
      "Epoch 2/100\n",
      "8100/8100 [==============================] - 0s 20us/step - loss: 0.2214 - acc: 0.4621 - val_loss: 0.2204 - val_acc: 0.4833\n",
      "Epoch 3/100\n",
      "8100/8100 [==============================] - 0s 19us/step - loss: 0.2157 - acc: 0.5257 - val_loss: 0.2163 - val_acc: 0.5511\n",
      "Epoch 4/100\n",
      "8100/8100 [==============================] - 0s 19us/step - loss: 0.2109 - acc: 0.5991 - val_loss: 0.2131 - val_acc: 0.6056\n",
      "Epoch 5/100\n",
      "8100/8100 [==============================] - 0s 18us/step - loss: 0.2067 - acc: 0.6385 - val_loss: 0.2102 - val_acc: 0.6367\n",
      "Epoch 6/100\n",
      "8100/8100 [==============================] - 0s 19us/step - loss: 0.2029 - acc: 0.6695 - val_loss: 0.2077 - val_acc: 0.6600\n",
      "Epoch 7/100\n",
      "8100/8100 [==============================] - 0s 18us/step - loss: 0.1994 - acc: 0.6865 - val_loss: 0.2054 - val_acc: 0.6711\n",
      "Epoch 8/100\n",
      "8100/8100 [==============================] - 0s 19us/step - loss: 0.1962 - acc: 0.6989 - val_loss: 0.2034 - val_acc: 0.6767\n",
      "Epoch 9/100\n",
      "8100/8100 [==============================] - 0s 19us/step - loss: 0.1935 - acc: 0.7088 - val_loss: 0.2017 - val_acc: 0.6900\n",
      "Epoch 10/100\n",
      "8100/8100 [==============================] - 0s 18us/step - loss: 0.1910 - acc: 0.7110 - val_loss: 0.2004 - val_acc: 0.6989\n",
      "Epoch 11/100\n",
      "8100/8100 [==============================] - 0s 18us/step - loss: 0.1889 - acc: 0.7123 - val_loss: 0.1992 - val_acc: 0.7044\n",
      "Epoch 12/100\n",
      "8100/8100 [==============================] - 0s 19us/step - loss: 0.1871 - acc: 0.7175 - val_loss: 0.1984 - val_acc: 0.7100\n",
      "Epoch 13/100\n",
      "8100/8100 [==============================] - 0s 18us/step - loss: 0.1856 - acc: 0.7210 - val_loss: 0.1974 - val_acc: 0.7122\n",
      "Epoch 14/100\n",
      "8100/8100 [==============================] - 0s 18us/step - loss: 0.1842 - acc: 0.7186 - val_loss: 0.1967 - val_acc: 0.7122\n",
      "Epoch 15/100\n",
      "8100/8100 [==============================] - 0s 18us/step - loss: 0.1830 - acc: 0.7242 - val_loss: 0.1960 - val_acc: 0.7144\n",
      "Epoch 16/100\n",
      "8100/8100 [==============================] - 0s 19us/step - loss: 0.1820 - acc: 0.7269 - val_loss: 0.1954 - val_acc: 0.7200\n",
      "Epoch 17/100\n",
      "8100/8100 [==============================] - 0s 18us/step - loss: 0.1810 - acc: 0.7249 - val_loss: 0.1947 - val_acc: 0.7211\n",
      "Epoch 18/100\n",
      "8100/8100 [==============================] - 0s 18us/step - loss: 0.1801 - acc: 0.7314 - val_loss: 0.1941 - val_acc: 0.7211\n",
      "Epoch 19/100\n",
      "8100/8100 [==============================] - 0s 18us/step - loss: 0.1792 - acc: 0.7301 - val_loss: 0.1935 - val_acc: 0.7189\n",
      "Epoch 20/100\n",
      "8100/8100 [==============================] - 0s 18us/step - loss: 0.1784 - acc: 0.7315 - val_loss: 0.1928 - val_acc: 0.7244\n",
      "Epoch 21/100\n",
      "8100/8100 [==============================] - 0s 19us/step - loss: 0.1776 - acc: 0.7315 - val_loss: 0.1921 - val_acc: 0.7244\n",
      "Epoch 22/100\n",
      "8100/8100 [==============================] - 0s 18us/step - loss: 0.1768 - acc: 0.7368 - val_loss: 0.1915 - val_acc: 0.7244\n",
      "Epoch 23/100\n",
      "8100/8100 [==============================] - 0s 19us/step - loss: 0.1760 - acc: 0.7353 - val_loss: 0.1906 - val_acc: 0.7256\n",
      "Epoch 24/100\n",
      "8100/8100 [==============================] - 0s 18us/step - loss: 0.1752 - acc: 0.7354 - val_loss: 0.1899 - val_acc: 0.7267\n",
      "Epoch 25/100\n",
      "8100/8100 [==============================] - 0s 19us/step - loss: 0.1744 - acc: 0.7375 - val_loss: 0.1892 - val_acc: 0.7289\n",
      "Epoch 26/100\n",
      "8100/8100 [==============================] - 0s 18us/step - loss: 0.1736 - acc: 0.7383 - val_loss: 0.1883 - val_acc: 0.7267\n",
      "Epoch 27/100\n",
      "8100/8100 [==============================] - 0s 18us/step - loss: 0.1729 - acc: 0.7393 - val_loss: 0.1876 - val_acc: 0.7278\n",
      "Epoch 28/100\n",
      "8100/8100 [==============================] - 0s 18us/step - loss: 0.1721 - acc: 0.7465 - val_loss: 0.1869 - val_acc: 0.7278\n",
      "Epoch 29/100\n",
      "8100/8100 [==============================] - 0s 18us/step - loss: 0.1713 - acc: 0.7433 - val_loss: 0.1860 - val_acc: 0.7311\n",
      "Epoch 30/100\n",
      "8100/8100 [==============================] - 0s 19us/step - loss: 0.1706 - acc: 0.7447 - val_loss: 0.1851 - val_acc: 0.7344\n",
      "Epoch 31/100\n",
      "8100/8100 [==============================] - 0s 19us/step - loss: 0.1698 - acc: 0.7459 - val_loss: 0.1844 - val_acc: 0.7344\n",
      "Epoch 32/100\n",
      "8100/8100 [==============================] - 0s 18us/step - loss: 0.1690 - acc: 0.7498 - val_loss: 0.1835 - val_acc: 0.7367\n",
      "Epoch 33/100\n",
      "8100/8100 [==============================] - 0s 18us/step - loss: 0.1683 - acc: 0.7520 - val_loss: 0.1827 - val_acc: 0.7356\n",
      "Epoch 34/100\n",
      "8100/8100 [==============================] - 0s 19us/step - loss: 0.1675 - acc: 0.7551 - val_loss: 0.1820 - val_acc: 0.7356\n",
      "Epoch 35/100\n",
      "8100/8100 [==============================] - 0s 18us/step - loss: 0.1668 - acc: 0.7551 - val_loss: 0.1811 - val_acc: 0.7389\n",
      "Epoch 36/100\n",
      "8100/8100 [==============================] - 0s 20us/step - loss: 0.1661 - acc: 0.7580 - val_loss: 0.1803 - val_acc: 0.7422\n",
      "Epoch 37/100\n",
      "8100/8100 [==============================] - 0s 18us/step - loss: 0.1653 - acc: 0.7583 - val_loss: 0.1795 - val_acc: 0.7411\n",
      "Epoch 38/100\n",
      "8100/8100 [==============================] - 0s 18us/step - loss: 0.1646 - acc: 0.7579 - val_loss: 0.1788 - val_acc: 0.7433\n",
      "Epoch 39/100\n",
      "8100/8100 [==============================] - 0s 18us/step - loss: 0.1639 - acc: 0.7601 - val_loss: 0.1782 - val_acc: 0.7444\n",
      "Epoch 40/100\n",
      "8100/8100 [==============================] - 0s 18us/step - loss: 0.1632 - acc: 0.7657 - val_loss: 0.1773 - val_acc: 0.7411\n",
      "Epoch 41/100\n",
      "8100/8100 [==============================] - 0s 18us/step - loss: 0.1626 - acc: 0.7658 - val_loss: 0.1766 - val_acc: 0.7456\n",
      "Epoch 42/100\n",
      "8100/8100 [==============================] - 0s 18us/step - loss: 0.1619 - acc: 0.7657 - val_loss: 0.1761 - val_acc: 0.7489\n",
      "Epoch 43/100\n",
      "8100/8100 [==============================] - 0s 18us/step - loss: 0.1612 - acc: 0.7704 - val_loss: 0.1753 - val_acc: 0.7489\n",
      "Epoch 44/100\n",
      "8100/8100 [==============================] - 0s 21us/step - loss: 0.1606 - acc: 0.7720 - val_loss: 0.1748 - val_acc: 0.7489\n",
      "Epoch 45/100\n",
      "8100/8100 [==============================] - 0s 18us/step - loss: 0.1600 - acc: 0.7691 - val_loss: 0.1741 - val_acc: 0.7467\n",
      "Epoch 46/100\n",
      "8100/8100 [==============================] - 0s 18us/step - loss: 0.1594 - acc: 0.7716 - val_loss: 0.1735 - val_acc: 0.7456\n",
      "Epoch 47/100\n",
      "8100/8100 [==============================] - 0s 19us/step - loss: 0.1588 - acc: 0.7700 - val_loss: 0.1729 - val_acc: 0.7456\n",
      "Epoch 48/100\n",
      "8100/8100 [==============================] - 0s 18us/step - loss: 0.1582 - acc: 0.7737 - val_loss: 0.1725 - val_acc: 0.7511\n",
      "Epoch 49/100\n",
      "8100/8100 [==============================] - 0s 19us/step - loss: 0.1577 - acc: 0.7749 - val_loss: 0.1720 - val_acc: 0.7544\n",
      "Epoch 50/100\n",
      "8100/8100 [==============================] - 0s 18us/step - loss: 0.1572 - acc: 0.7804 - val_loss: 0.1713 - val_acc: 0.7489\n",
      "Epoch 51/100\n",
      "8100/8100 [==============================] - 0s 19us/step - loss: 0.1567 - acc: 0.7765 - val_loss: 0.1708 - val_acc: 0.7511\n",
      "Epoch 52/100\n",
      "8100/8100 [==============================] - 0s 18us/step - loss: 0.1563 - acc: 0.7791 - val_loss: 0.1705 - val_acc: 0.7567\n",
      "Epoch 53/100\n",
      "8100/8100 [==============================] - 0s 18us/step - loss: 0.1558 - acc: 0.7807 - val_loss: 0.1700 - val_acc: 0.7556\n",
      "Epoch 54/100\n",
      "8100/8100 [==============================] - 0s 24us/step - loss: 0.1554 - acc: 0.7807 - val_loss: 0.1695 - val_acc: 0.7578\n",
      "Epoch 55/100\n",
      "8100/8100 [==============================] - 0s 32us/step - loss: 0.1549 - acc: 0.7836 - val_loss: 0.1690 - val_acc: 0.7556A: 0s - loss: 0.1509 - acc: 0.7\n",
      "Epoch 56/100\n",
      "8100/8100 [==============================] - 0s 26us/step - loss: 0.1545 - acc: 0.7794 - val_loss: 0.1687 - val_acc: 0.7544\n",
      "Epoch 57/100\n",
      "8100/8100 [==============================] - 0s 24us/step - loss: 0.1542 - acc: 0.7844 - val_loss: 0.1684 - val_acc: 0.7578\n",
      "Epoch 58/100\n",
      "8100/8100 [==============================] - 0s 24us/step - loss: 0.1538 - acc: 0.7821 - val_loss: 0.1679 - val_acc: 0.7600\n",
      "Epoch 59/100\n",
      "8100/8100 [==============================] - 0s 24us/step - loss: 0.1535 - acc: 0.7814 - val_loss: 0.1678 - val_acc: 0.7633\n",
      "Epoch 60/100\n"
     ]
    },
    {
     "name": "stdout",
     "output_type": "stream",
     "text": [
      "8100/8100 [==============================] - 0s 19us/step - loss: 0.1531 - acc: 0.7853 - val_loss: 0.1673 - val_acc: 0.7622\n",
      "Epoch 61/100\n",
      "8100/8100 [==============================] - 0s 18us/step - loss: 0.1528 - acc: 0.7814 - val_loss: 0.1670 - val_acc: 0.7611\n",
      "Epoch 62/100\n",
      "8100/8100 [==============================] - 0s 18us/step - loss: 0.1525 - acc: 0.7851 - val_loss: 0.1668 - val_acc: 0.7611\n",
      "Epoch 63/100\n",
      "8100/8100 [==============================] - 0s 20us/step - loss: 0.1522 - acc: 0.7827 - val_loss: 0.1664 - val_acc: 0.7589\n",
      "Epoch 64/100\n",
      "8100/8100 [==============================] - 0s 19us/step - loss: 0.1519 - acc: 0.7881 - val_loss: 0.1661 - val_acc: 0.7622\n",
      "Epoch 65/100\n",
      "8100/8100 [==============================] - 0s 29us/step - loss: 0.1516 - acc: 0.7832 - val_loss: 0.1660 - val_acc: 0.7644\n",
      "Epoch 66/100\n",
      "8100/8100 [==============================] - 0s 29us/step - loss: 0.1514 - acc: 0.7860 - val_loss: 0.1659 - val_acc: 0.7667\n",
      "Epoch 67/100\n",
      "8100/8100 [==============================] - 0s 24us/step - loss: 0.1511 - acc: 0.7875 - val_loss: 0.1655 - val_acc: 0.7633\n",
      "Epoch 68/100\n",
      "8100/8100 [==============================] - 0s 28us/step - loss: 0.1509 - acc: 0.7880 - val_loss: 0.1654 - val_acc: 0.7667\n",
      "Epoch 69/100\n",
      "8100/8100 [==============================] - 0s 27us/step - loss: 0.1506 - acc: 0.7894 - val_loss: 0.1649 - val_acc: 0.7644\n",
      "Epoch 70/100\n",
      "8100/8100 [==============================] - 0s 27us/step - loss: 0.1504 - acc: 0.7842 - val_loss: 0.1649 - val_acc: 0.7656\n",
      "Epoch 71/100\n",
      "8100/8100 [==============================] - 0s 22us/step - loss: 0.1502 - acc: 0.7875 - val_loss: 0.1646 - val_acc: 0.7644\n",
      "Epoch 72/100\n",
      "8100/8100 [==============================] - 0s 19us/step - loss: 0.1500 - acc: 0.7879 - val_loss: 0.1643 - val_acc: 0.7633\n",
      "Epoch 73/100\n",
      "8100/8100 [==============================] - 0s 20us/step - loss: 0.1498 - acc: 0.7857 - val_loss: 0.1642 - val_acc: 0.7589\n",
      "Epoch 74/100\n",
      "8100/8100 [==============================] - 0s 28us/step - loss: 0.1496 - acc: 0.7869 - val_loss: 0.1641 - val_acc: 0.7633\n",
      "Epoch 75/100\n",
      "8100/8100 [==============================] - 0s 27us/step - loss: 0.1494 - acc: 0.7891 - val_loss: 0.1641 - val_acc: 0.7667\n",
      "Epoch 76/100\n",
      "8100/8100 [==============================] - 0s 23us/step - loss: 0.1492 - acc: 0.7898 - val_loss: 0.1637 - val_acc: 0.7589\n",
      "Epoch 77/100\n",
      "8100/8100 [==============================] - 0s 19us/step - loss: 0.1490 - acc: 0.7875 - val_loss: 0.1636 - val_acc: 0.7600\n",
      "Epoch 78/100\n",
      "8100/8100 [==============================] - 0s 30us/step - loss: 0.1489 - acc: 0.7910 - val_loss: 0.1634 - val_acc: 0.7578\n",
      "Epoch 79/100\n",
      "8100/8100 [==============================] - 0s 26us/step - loss: 0.1487 - acc: 0.7870 - val_loss: 0.1633 - val_acc: 0.7589\n",
      "Epoch 80/100\n",
      "8100/8100 [==============================] - 0s 19us/step - loss: 0.1485 - acc: 0.7873 - val_loss: 0.1633 - val_acc: 0.7622\n",
      "Epoch 81/100\n",
      "8100/8100 [==============================] - 0s 19us/step - loss: 0.1483 - acc: 0.7895 - val_loss: 0.1631 - val_acc: 0.7656\n",
      "Epoch 82/100\n",
      "8100/8100 [==============================] - 0s 19us/step - loss: 0.1482 - acc: 0.7873 - val_loss: 0.1631 - val_acc: 0.7656\n",
      "Epoch 83/100\n",
      "8100/8100 [==============================] - 0s 19us/step - loss: 0.1481 - acc: 0.7901 - val_loss: 0.1630 - val_acc: 0.7633\n",
      "Epoch 84/100\n",
      "8100/8100 [==============================] - 0s 21us/step - loss: 0.1479 - acc: 0.7916 - val_loss: 0.1629 - val_acc: 0.7622\n",
      "Epoch 85/100\n",
      "8100/8100 [==============================] - 0s 19us/step - loss: 0.1478 - acc: 0.7935 - val_loss: 0.1627 - val_acc: 0.7600\n",
      "Epoch 86/100\n",
      "8100/8100 [==============================] - 0s 19us/step - loss: 0.1477 - acc: 0.7879 - val_loss: 0.1625 - val_acc: 0.7578\n",
      "Epoch 87/100\n",
      "8100/8100 [==============================] - 0s 19us/step - loss: 0.1475 - acc: 0.7932 - val_loss: 0.1625 - val_acc: 0.7622\n",
      "Epoch 88/100\n",
      "8100/8100 [==============================] - 0s 18us/step - loss: 0.1473 - acc: 0.7891 - val_loss: 0.1625 - val_acc: 0.7633\n",
      "Epoch 89/100\n",
      "8100/8100 [==============================] - 0s 18us/step - loss: 0.1472 - acc: 0.7919 - val_loss: 0.1624 - val_acc: 0.7656\n",
      "Epoch 90/100\n",
      "8100/8100 [==============================] - 0s 19us/step - loss: 0.1471 - acc: 0.7972 - val_loss: 0.1622 - val_acc: 0.7644\n",
      "Epoch 91/100\n",
      "8100/8100 [==============================] - 0s 18us/step - loss: 0.1470 - acc: 0.7880 - val_loss: 0.1622 - val_acc: 0.7656\n",
      "Epoch 92/100\n",
      "8100/8100 [==============================] - 0s 19us/step - loss: 0.1468 - acc: 0.7949 - val_loss: 0.1621 - val_acc: 0.7667\n",
      "Epoch 93/100\n",
      "8100/8100 [==============================] - 0s 18us/step - loss: 0.1468 - acc: 0.7901 - val_loss: 0.1619 - val_acc: 0.7644\n",
      "Epoch 94/100\n",
      "8100/8100 [==============================] - 0s 19us/step - loss: 0.1466 - acc: 0.7948 - val_loss: 0.1620 - val_acc: 0.7656\n",
      "Epoch 95/100\n",
      "8100/8100 [==============================] - 0s 18us/step - loss: 0.1465 - acc: 0.7937 - val_loss: 0.1619 - val_acc: 0.7667\n",
      "Epoch 96/100\n",
      "8100/8100 [==============================] - 0s 18us/step - loss: 0.1464 - acc: 0.7938 - val_loss: 0.1619 - val_acc: 0.7656\n",
      "Epoch 97/100\n",
      "8100/8100 [==============================] - 0s 18us/step - loss: 0.1463 - acc: 0.7944 - val_loss: 0.1617 - val_acc: 0.7667\n",
      "Epoch 98/100\n",
      "8100/8100 [==============================] - 0s 18us/step - loss: 0.1462 - acc: 0.7953 - val_loss: 0.1617 - val_acc: 0.7656\n",
      "Epoch 99/100\n",
      "8100/8100 [==============================] - 0s 19us/step - loss: 0.1461 - acc: 0.7958 - val_loss: 0.1616 - val_acc: 0.7667\n",
      "Epoch 100/100\n",
      "8100/8100 [==============================] - 0s 18us/step - loss: 0.1460 - acc: 0.7926 - val_loss: 0.1616 - val_acc: 0.7622\n"
     ]
    }
   ],
   "source": [
    "history = model.fit(x=X_train, y=y_train,batch_size=128,epochs=100,validation_split=0.1,class_weight=cw)"
   ]
  },
  {
   "cell_type": "code",
   "execution_count": 33,
   "metadata": {},
   "outputs": [
    {
     "data": {
      "text/plain": [
       "<matplotlib.legend.Legend at 0x1a3f82dbe0>"
      ]
     },
     "execution_count": 33,
     "metadata": {},
     "output_type": "execute_result"
    },
    {
     "data": {
      "image/png": "[encoded data removed]",
      "text/plain": [
       "<Figure size 432x288 with 1 Axes>"
      ]
     },
     "metadata": {},
     "output_type": "display_data"
    }
   ],
   "source": [
    "# summarize history for accuracy\n",
    "plt.plot(history.history['acc'])\n",
    "plt.plot(history.history['val_acc'])\n",
    "plt.title('model accuracy')\n",
    "plt.ylabel('accuracy')\n",
    "plt.xlabel('epoch')\n",
    "plt.legend(['train', 'validation'], loc='upper left')"
   ]
  },
  {
   "cell_type": "code",
   "execution_count": 34,
   "metadata": {},
   "outputs": [
    {
     "data": {
      "text/plain": [
       "<matplotlib.legend.Legend at 0x1a3f8b7828>"
      ]
     },
     "execution_count": 34,
     "metadata": {},
     "output_type": "execute_result"
    },
    {
     "data": {
      "image/png": "[encoded data removed]",
      "text/plain": [
       "<Figure size 432x288 with 1 Axes>"
      ]
     },
     "metadata": {},
     "output_type": "display_data"
    }
   ],
   "source": [
    "# summarize history for loss\n",
    "plt.plot(history.history['loss'])\n",
    "plt.plot(history.history['val_loss'])\n",
    "plt.title('model loss')\n",
    "plt.ylabel('loss')\n",
    "plt.xlabel('epoch')\n",
    "plt.legend(['train', 'validation'], loc='upper left')"
   ]
  },
  {
   "cell_type": "code",
   "execution_count": 35,
   "metadata": {},
   "outputs": [],
   "source": [
    "preds = model.predict_classes(X_test)"
   ]
  },
  {
   "cell_type": "code",
   "execution_count": 36,
   "metadata": {},
   "outputs": [
    {
     "name": "stdout",
     "output_type": "stream",
     "text": [
      "             precision    recall  f1-score   support\n",
      "\n",
      "          0       0.92      0.78      0.85       800\n",
      "          1       0.46      0.73      0.56       200\n",
      "\n",
      "avg / total       0.83      0.77      0.79      1000\n",
      "\n"
     ]
    }
   ],
   "source": [
    "print(classification_report(y_test, preds))"
   ]
  },
  {
   "cell_type": "code",
   "execution_count": 37,
   "metadata": {},
   "outputs": [
    {
     "name": "stdout",
     "output_type": "stream",
     "text": [
      "[[627 173]\n",
      " [ 54 146]]\n"
     ]
    }
   ],
   "source": [
    "print(confusion_matrix(y_test, preds))"
   ]
  },
  {
   "cell_type": "markdown",
   "metadata": {},
   "source": [
    "## Conclusion"
   ]
  },
  {
   "cell_type": "markdown",
   "metadata": {},
   "source": [
    "Based on recall, the Neural network clearly outperforms the simpler models (73% True positives vs 42% resp 21%). Recall and not accuracy should be considered to stress the importance of finding customers with high likelihood to churn although that comes with the cost of increasing the False negatives also. In a business perspective, the cost of miss-classifying positives is probably higher than miss-classifying negatives."
   ]
  }
 ],
 "metadata": {
  "kernelspec": {
   "display_name": "Python 3",
   "language": "python",
   "name": "python3"
  },
  "language_info": {
   "codemirror_mode": {
    "name": "ipython",
    "version": 3
   },
   "file_extension": ".py",
   "mimetype": "text/x-python",
   "name": "python",
   "nbconvert_exporter": "python",
   "pygments_lexer": "ipython3",
   "version": "3.6.6"
  }
 },
 "nbformat": 4,
 "nbformat_minor": 2
}
